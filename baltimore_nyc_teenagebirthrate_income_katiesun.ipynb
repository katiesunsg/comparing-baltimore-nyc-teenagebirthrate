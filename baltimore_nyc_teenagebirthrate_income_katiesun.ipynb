{
  "nbformat": 4,
  "nbformat_minor": 0,
  "metadata": {
    "colab": {
      "name": "baltimore-nyc-teenagebirthrate-income-katiesun.ipynb",
      "provenance": [],
      "toc_visible": true,
      "authorship_tag": "ABX9TyOALrukNmurYgklp9HZllYx",
      "include_colab_link": true
    },
    "kernelspec": {
      "name": "python3",
      "display_name": "Python 3"
    }
  },
  "cells": [
    {
      "cell_type": "markdown",
      "metadata": {
        "id": "view-in-github",
        "colab_type": "text"
      },
      "source": [
        "<a href=\"https://colab.research.google.com/github/katiesunsg/comparing-baltimore-nyc-teenagebirthrate/blob/master/baltimore_nyc_teenagebirthrate_income_katiesun.ipynb\" target=\"_parent\"><img src=\"https://colab.research.google.com/assets/colab-badge.svg\" alt=\"Open In Colab\"/></a>"
      ]
    },
    {
      "cell_type": "markdown",
      "metadata": {
        "id": "A1jA4LZsDJKa"
      },
      "source": [
        "# Comparing Baltimore and New York City Teenage Birth Rates by Race\n",
        "* How does teenage birth rates differ within the two cities by income level when stratifying for all income, high income, middle income, and low income?\n",
        "* Do we see similar trends for teenage birth rates between the two cities?"
      ]
    },
    {
      "cell_type": "code",
      "metadata": {
        "id": "eqPdMVFyDAq-"
      },
      "source": [
        "# pip install plotly"
      ],
      "execution_count": 1,
      "outputs": []
    },
    {
      "cell_type": "code",
      "metadata": {
        "id": "UjXQo8NoDO56"
      },
      "source": [
        "# for data analysis\n",
        "import pandas as pd\n",
        "import numpy as np\n",
        "\n",
        "# for viz\n",
        "import plotly.express as px"
      ],
      "execution_count": 2,
      "outputs": []
    },
    {
      "cell_type": "code",
      "metadata": {
        "id": "zfGhMRMtDUy3"
      },
      "source": [
        "# import data\n",
        "\n",
        "# baltimore teenage birth rates by income levels\n",
        "df_balti_teenagebirths = pd.read_csv(\"https://raw.githubusercontent.com/katiesunsg/comparing-baltimore-nyc-teenagebirthrate/master/Balti-Raw-TeenageBirthRate-Income_AllHighMiddleLow.csv\")\n",
        "\n",
        "# nyc teenage birth rates by income levels \n",
        "df_nyc_teenagebirths = pd.read_csv(\"https://raw.githubusercontent.com/katiesunsg/comparing-baltimore-nyc-teenagebirthrate/master/NYC-Raw-TeenageBirthRate-Income_AllHighMiddleLow.csv\")\n"
      ],
      "execution_count": 30,
      "outputs": []
    },
    {
      "cell_type": "code",
      "metadata": {
        "colab": {
          "base_uri": "https://localhost:8080/",
          "height": 204
        },
        "id": "AbDl2-c5Dwfm",
        "outputId": "a9f445a5-62a9-4572-e918-7da3657cd98e"
      },
      "source": [
        "# preview balti data\n",
        "df_balti_teenagebirths.head()"
      ],
      "execution_count": 31,
      "outputs": [
        {
          "output_type": "execute_result",
          "data": {
            "text/html": [
              "<div>\n",
              "<style scoped>\n",
              "    .dataframe tbody tr th:only-of-type {\n",
              "        vertical-align: middle;\n",
              "    }\n",
              "\n",
              "    .dataframe tbody tr th {\n",
              "        vertical-align: top;\n",
              "    }\n",
              "\n",
              "    .dataframe thead th {\n",
              "        text-align: right;\n",
              "    }\n",
              "</style>\n",
              "<table border=\"1\" class=\"dataframe\">\n",
              "  <thead>\n",
              "    <tr style=\"text-align: right;\">\n",
              "      <th></th>\n",
              "      <th>tract</th>\n",
              "      <th>Neighborhood</th>\n",
              "      <th>City</th>\n",
              "      <th>State</th>\n",
              "      <th>Teenage_Birth_Rate_women_only_rP_gF_pall</th>\n",
              "      <th>Income</th>\n",
              "    </tr>\n",
              "  </thead>\n",
              "  <tbody>\n",
              "    <tr>\n",
              "      <th>0</th>\n",
              "      <td>24510280500</td>\n",
              "      <td>Pleasant View Gardens</td>\n",
              "      <td>Baltimore</td>\n",
              "      <td>MD</td>\n",
              "      <td>0.6596</td>\n",
              "      <td>All</td>\n",
              "    </tr>\n",
              "    <tr>\n",
              "      <th>1</th>\n",
              "      <td>24510250204</td>\n",
              "      <td>Cherry Hill</td>\n",
              "      <td>Baltimore</td>\n",
              "      <td>MD</td>\n",
              "      <td>0.6561</td>\n",
              "      <td>All</td>\n",
              "    </tr>\n",
              "    <tr>\n",
              "      <th>2</th>\n",
              "      <td>24510120400</td>\n",
              "      <td>Barclay</td>\n",
              "      <td>Baltimore</td>\n",
              "      <td>MD</td>\n",
              "      <td>0.6273</td>\n",
              "      <td>All</td>\n",
              "    </tr>\n",
              "    <tr>\n",
              "      <th>3</th>\n",
              "      <td>24510200100</td>\n",
              "      <td>Lexington</td>\n",
              "      <td>Baltimore</td>\n",
              "      <td>MD</td>\n",
              "      <td>0.6078</td>\n",
              "      <td>All</td>\n",
              "    </tr>\n",
              "    <tr>\n",
              "      <th>4</th>\n",
              "      <td>24510170200</td>\n",
              "      <td>McCulloh Homes</td>\n",
              "      <td>Baltimore</td>\n",
              "      <td>MD</td>\n",
              "      <td>0.6074</td>\n",
              "      <td>All</td>\n",
              "    </tr>\n",
              "  </tbody>\n",
              "</table>\n",
              "</div>"
            ],
            "text/plain": [
              "         tract  ... Income\n",
              "0  24510280500  ...    All\n",
              "1  24510250204  ...    All\n",
              "2  24510120400  ...    All\n",
              "3  24510200100  ...    All\n",
              "4  24510170200  ...    All\n",
              "\n",
              "[5 rows x 6 columns]"
            ]
          },
          "metadata": {
            "tags": []
          },
          "execution_count": 31
        }
      ]
    },
    {
      "cell_type": "code",
      "metadata": {
        "colab": {
          "base_uri": "https://localhost:8080/",
          "height": 204
        },
        "id": "4s02me-iD8ok",
        "outputId": "21ae7d43-e057-45bc-b47f-b98a0e5ec4d5"
      },
      "source": [
        "# preview nyc data\n",
        "df_nyc_teenagebirths.head()"
      ],
      "execution_count": 32,
      "outputs": [
        {
          "output_type": "execute_result",
          "data": {
            "text/html": [
              "<div>\n",
              "<style scoped>\n",
              "    .dataframe tbody tr th:only-of-type {\n",
              "        vertical-align: middle;\n",
              "    }\n",
              "\n",
              "    .dataframe tbody tr th {\n",
              "        vertical-align: top;\n",
              "    }\n",
              "\n",
              "    .dataframe thead th {\n",
              "        text-align: right;\n",
              "    }\n",
              "</style>\n",
              "<table border=\"1\" class=\"dataframe\">\n",
              "  <thead>\n",
              "    <tr style=\"text-align: right;\">\n",
              "      <th></th>\n",
              "      <th>tract</th>\n",
              "      <th>Neighborhood</th>\n",
              "      <th>City</th>\n",
              "      <th>State</th>\n",
              "      <th>Teenage_Birth_Rate_women_only_rP_gF_pall</th>\n",
              "      <th>Income</th>\n",
              "    </tr>\n",
              "  </thead>\n",
              "  <tbody>\n",
              "    <tr>\n",
              "      <th>0</th>\n",
              "      <td>36061020600</td>\n",
              "      <td>East Harlem</td>\n",
              "      <td>New York</td>\n",
              "      <td>NY</td>\n",
              "      <td>0.4863</td>\n",
              "      <td>All</td>\n",
              "    </tr>\n",
              "    <tr>\n",
              "      <th>1</th>\n",
              "      <td>36061025900</td>\n",
              "      <td>Harlem</td>\n",
              "      <td>New York</td>\n",
              "      <td>NY</td>\n",
              "      <td>0.4440</td>\n",
              "      <td>All</td>\n",
              "    </tr>\n",
              "    <tr>\n",
              "      <th>2</th>\n",
              "      <td>36061023502</td>\n",
              "      <td>Harlem</td>\n",
              "      <td>New York</td>\n",
              "      <td>NY</td>\n",
              "      <td>0.4146</td>\n",
              "      <td>All</td>\n",
              "    </tr>\n",
              "    <tr>\n",
              "      <th>3</th>\n",
              "      <td>36061022800</td>\n",
              "      <td>Harlem</td>\n",
              "      <td>New York</td>\n",
              "      <td>NY</td>\n",
              "      <td>0.4125</td>\n",
              "      <td>All</td>\n",
              "    </tr>\n",
              "    <tr>\n",
              "      <th>4</th>\n",
              "      <td>36061023200</td>\n",
              "      <td>Harlem</td>\n",
              "      <td>New York</td>\n",
              "      <td>NY</td>\n",
              "      <td>0.3984</td>\n",
              "      <td>All</td>\n",
              "    </tr>\n",
              "  </tbody>\n",
              "</table>\n",
              "</div>"
            ],
            "text/plain": [
              "         tract Neighborhood  ... Teenage_Birth_Rate_women_only_rP_gF_pall Income\n",
              "0  36061020600  East Harlem  ...                                   0.4863    All\n",
              "1  36061025900       Harlem  ...                                   0.4440    All\n",
              "2  36061023502       Harlem  ...                                   0.4146    All\n",
              "3  36061022800       Harlem  ...                                   0.4125    All\n",
              "4  36061023200       Harlem  ...                                   0.3984    All\n",
              "\n",
              "[5 rows x 6 columns]"
            ]
          },
          "metadata": {
            "tags": []
          },
          "execution_count": 32
        }
      ]
    },
    {
      "cell_type": "code",
      "metadata": {
        "colab": {
          "base_uri": "https://localhost:8080/",
          "height": 204
        },
        "id": "Kni7guw2EAS7",
        "outputId": "8f86fe03-dba0-4331-e593-11e29c237a2c"
      },
      "source": [
        "# preview nyc data end\n",
        "df_nyc_teenagebirths.tail()"
      ],
      "execution_count": 34,
      "outputs": [
        {
          "output_type": "execute_result",
          "data": {
            "text/html": [
              "<div>\n",
              "<style scoped>\n",
              "    .dataframe tbody tr th:only-of-type {\n",
              "        vertical-align: middle;\n",
              "    }\n",
              "\n",
              "    .dataframe tbody tr th {\n",
              "        vertical-align: top;\n",
              "    }\n",
              "\n",
              "    .dataframe thead th {\n",
              "        text-align: right;\n",
              "    }\n",
              "</style>\n",
              "<table border=\"1\" class=\"dataframe\">\n",
              "  <thead>\n",
              "    <tr style=\"text-align: right;\">\n",
              "      <th></th>\n",
              "      <th>tract</th>\n",
              "      <th>Neighborhood</th>\n",
              "      <th>City</th>\n",
              "      <th>State</th>\n",
              "      <th>Teenage_Birth_Rate_women_only_rP_gF_pall</th>\n",
              "      <th>Income</th>\n",
              "    </tr>\n",
              "  </thead>\n",
              "  <tbody>\n",
              "    <tr>\n",
              "      <th>1143</th>\n",
              "      <td>36061010200</td>\n",
              "      <td>Midtown</td>\n",
              "      <td>New York</td>\n",
              "      <td>NY</td>\n",
              "      <td>NaN</td>\n",
              "      <td>Low</td>\n",
              "    </tr>\n",
              "    <tr>\n",
              "      <th>1144</th>\n",
              "      <td>36061031900</td>\n",
              "      <td>Lower Manhattan</td>\n",
              "      <td>New York</td>\n",
              "      <td>NY</td>\n",
              "      <td>NaN</td>\n",
              "      <td>Low</td>\n",
              "    </tr>\n",
              "    <tr>\n",
              "      <th>1145</th>\n",
              "      <td>36061010100</td>\n",
              "      <td>Midtown</td>\n",
              "      <td>New York</td>\n",
              "      <td>NY</td>\n",
              "      <td>NaN</td>\n",
              "      <td>Low</td>\n",
              "    </tr>\n",
              "    <tr>\n",
              "      <th>1146</th>\n",
              "      <td>36061011202</td>\n",
              "      <td>Midtown</td>\n",
              "      <td>New York</td>\n",
              "      <td>NY</td>\n",
              "      <td>NaN</td>\n",
              "      <td>Low</td>\n",
              "    </tr>\n",
              "    <tr>\n",
              "      <th>1147</th>\n",
              "      <td>36061031100</td>\n",
              "      <td>Upper Manhattan</td>\n",
              "      <td>New York</td>\n",
              "      <td>NY</td>\n",
              "      <td>NaN</td>\n",
              "      <td>Low</td>\n",
              "    </tr>\n",
              "  </tbody>\n",
              "</table>\n",
              "</div>"
            ],
            "text/plain": [
              "            tract  ... Income\n",
              "1143  36061010200  ...    Low\n",
              "1144  36061031900  ...    Low\n",
              "1145  36061010100  ...    Low\n",
              "1146  36061011202  ...    Low\n",
              "1147  36061031100  ...    Low\n",
              "\n",
              "[5 rows x 6 columns]"
            ]
          },
          "metadata": {
            "tags": []
          },
          "execution_count": 34
        }
      ]
    },
    {
      "cell_type": "markdown",
      "metadata": {
        "id": "g0U5N81oFjFm"
      },
      "source": [
        "# Filtering Data for Neighborhoods"
      ]
    },
    {
      "cell_type": "code",
      "metadata": {
        "colab": {
          "base_uri": "https://localhost:8080/"
        },
        "id": "swF3AlOTF49L",
        "outputId": "bfe3a099-5421-477b-87a2-7228bce5c1da"
      },
      "source": [
        "# look at balti neighborhood names\n",
        "df_balti_teenagebirths[\"Neighborhood\"].unique()"
      ],
      "execution_count": 9,
      "outputs": [
        {
          "output_type": "execute_result",
          "data": {
            "text/plain": [
              "array(['Pleasant View Gardens', 'Cherry Hill', 'Barclay', 'Lexington',\n",
              "       'McCulloh Homes', 'Broadway East', 'Shipley Hill', 'Oliver',\n",
              "       'Langston Hughes', 'Upton', 'Butchers Hill',\n",
              "       'Coldstream - Homestead - Montebello', 'Perkins Homes',\n",
              "       'Sandtown-Winchester', 'Mosher', 'Gay Street',\n",
              "       'Bentalou-Smallwood', 'Better Waverly', 'Darley Park',\n",
              "       'Belair - Edison', 'Madison - Eastend', 'Penn North',\n",
              "       'East Baltimore Midway', 'Harlem Park', 'Greenmount West',\n",
              "       'Milton - Montford', 'Berea', 'Midtown Edmondson',\n",
              "       'Johnson Square', 'Burleith-Leighton', 'Franklin Square',\n",
              "       'Harwood', 'Central Park Heights', 'Westport', 'Cedonia',\n",
              "       'Frankford', 'NW Community Action', 'Druid Heights', 'Old Goucher',\n",
              "       'Patterson Park', \"O'Donnell Heights\", 'Arlington', 'Mondawmin',\n",
              "       'Edgecomb', 'Reservoir Hill', 'Garwyn Oaks', 'Pigtown',\n",
              "       'Coppin Heights', \"Saint Joseph's\", 'Downtown', 'Irvington',\n",
              "       'Winston - Govans', 'Edmondson',\n",
              "       'Harford - Echodale - Perring Parkway', 'Allendale',\n",
              "       'Little Italy', 'Woodbrook', 'Claremont - Freedom', 'Gwynn Oak',\n",
              "       'Mount Clare', 'Park Circle', 'Poppleton', 'Brooklyn', 'Walbrook',\n",
              "       'Ednor Gardens - Lakeside', 'Bridgeview-Greenlawn', 'Mill Hill',\n",
              "       'Dorchester', 'New Northwood', 'Hanlon Longwood', 'Parkside',\n",
              "       'Hollins Market', 'Rosemont', 'Remington', 'Beechfield',\n",
              "       'Baltimore Highlands', 'Pratt Monroe', 'Cross Keys',\n",
              "       'Windsor Hills', 'Yale Heights', 'Rognel Heights', 'Ramblewood',\n",
              "       'Reisterstown Station', 'Mid-Govans', 'Loch Raven', 'Lakeland',\n",
              "       'East Arlington', 'Perring Loch', 'Curtis Bay', 'Morrell Park',\n",
              "       'Hillen', 'Hampden', 'Cedmont', 'Glen', 'Upper Fells Point',\n",
              "       'South Baltimore', 'Bolton Hill', 'Woodberry', 'West Forest Park',\n",
              "       'Idlewood', 'Canton', 'Glenham-Belford', 'Waltherson',\n",
              "       'Medford - Broening', 'Armistead Gardens', 'Westgate',\n",
              "       'Lauraville', 'Locust Point', 'Arcadia', 'Lake Walker',\n",
              "       'Riverside Park', 'Cold Springs', 'Fifteenth Street', 'Riverside',\n",
              "       'Fallstaff', 'Joseph Lee', 'Violetville', 'North Harford Road',\n",
              "       'Medfield', 'Woodring', 'Fells Point', 'Radnor - Winston',\n",
              "       'Mid-Charles', 'Cross Country', 'Cheswolde', 'Homeland',\n",
              "       'Evergreen', 'Tuscany - Canterbury', 'Roland Park',\n",
              "       'Mount Washington', 'Penn - Fallsway'], dtype=object)"
            ]
          },
          "metadata": {
            "tags": []
          },
          "execution_count": 9
        }
      ]
    },
    {
      "cell_type": "code",
      "metadata": {
        "colab": {
          "base_uri": "https://localhost:8080/"
        },
        "id": "3k78lxG_GAm2",
        "outputId": "9f9f3ea0-0e96-48c4-ac03-f2c8b2e80646"
      },
      "source": [
        "# number of balti neighborhoods\n",
        "df_balti_teenagebirths[\"Neighborhood\"].nunique()"
      ],
      "execution_count": 10,
      "outputs": [
        {
          "output_type": "execute_result",
          "data": {
            "text/plain": [
              "131"
            ]
          },
          "metadata": {
            "tags": []
          },
          "execution_count": 10
        }
      ]
    },
    {
      "cell_type": "code",
      "metadata": {
        "colab": {
          "base_uri": "https://localhost:8080/"
        },
        "id": "Om5bDPNqGGV9",
        "outputId": "e1b08fc7-fa19-412b-fd0a-19f4f39bb0ca"
      },
      "source": [
        "# nyc neighborhood names\n",
        "df_nyc_teenagebirths[\"Neighborhood\"].unique()"
      ],
      "execution_count": 11,
      "outputs": [
        {
          "output_type": "execute_result",
          "data": {
            "text/plain": [
              "array(['East Harlem', 'Harlem', 'Alphabet City', 'Upper Manhattan',\n",
              "       'Lower Manhattan', 'Inwood', 'Fort George', 'Upper West Side',\n",
              "       'West Bronx', 'Midtown', 'Lincoln Square', \"Hell's Kitchen\",\n",
              "       'Hudson Heights', 'Bowery', 'Upper East Side', 'East Village',\n",
              "       'Bloomingdale', 'Roosevelt Island', 'Gramercy Park', 'Lenox Hill',\n",
              "       'Lower East Side', 'Kips Bay', 'Chinatown', 'Midtown East',\n",
              "       'Yorkville', 'Randalls Island', 'Central Park', 'Governors Island',\n",
              "       'Garment District'], dtype=object)"
            ]
          },
          "metadata": {
            "tags": []
          },
          "execution_count": 11
        }
      ]
    },
    {
      "cell_type": "code",
      "metadata": {
        "colab": {
          "base_uri": "https://localhost:8080/"
        },
        "id": "B08V6R_DGXZf",
        "outputId": "be651769-4c1d-43be-ad22-62e1bd40a1e9"
      },
      "source": [
        "# number of nyc neighborhoods\n",
        "df_nyc_teenagebirths[\"Neighborhood\"].nunique()"
      ],
      "execution_count": 12,
      "outputs": [
        {
          "output_type": "execute_result",
          "data": {
            "text/plain": [
              "29"
            ]
          },
          "metadata": {
            "tags": []
          },
          "execution_count": 12
        }
      ]
    },
    {
      "cell_type": "code",
      "metadata": {
        "colab": {
          "base_uri": "https://localhost:8080/"
        },
        "id": "Pr2j3ng9EHXT",
        "outputId": "a54a09de-badf-46ef-a8d0-1d1faae4bb3b"
      },
      "source": [
        "# look at all of the column names\n",
        "df_balti_teenagebirths.columns"
      ],
      "execution_count": 7,
      "outputs": [
        {
          "output_type": "execute_result",
          "data": {
            "text/plain": [
              "Index(['tract', 'Neighborhood', 'City', 'State',\n",
              "       'Teenage_Birth_Rate_women_only_rP_gF_pall', 'Income'],\n",
              "      dtype='object')"
            ]
          },
          "metadata": {
            "tags": []
          },
          "execution_count": 7
        }
      ]
    },
    {
      "cell_type": "code",
      "metadata": {
        "colab": {
          "base_uri": "https://localhost:8080/"
        },
        "id": "1WSAABvgFoVb",
        "outputId": "2d9c036d-222e-4837-d91d-9d3afadcc457"
      },
      "source": [
        "df_balti_teenagebirths.info()"
      ],
      "execution_count": 13,
      "outputs": [
        {
          "output_type": "stream",
          "text": [
            "<class 'pandas.core.frame.DataFrame'>\n",
            "RangeIndex: 772 entries, 0 to 771\n",
            "Data columns (total 6 columns):\n",
            " #   Column                                    Non-Null Count  Dtype  \n",
            "---  ------                                    --------------  -----  \n",
            " 0   tract                                     772 non-null    int64  \n",
            " 1   Neighborhood                              772 non-null    object \n",
            " 2   City                                      772 non-null    object \n",
            " 3   State                                     772 non-null    object \n",
            " 4   Teenage_Birth_Rate_women_only_rP_gF_pall  765 non-null    float64\n",
            " 5   Income                                    772 non-null    object \n",
            "dtypes: float64(1), int64(1), object(4)\n",
            "memory usage: 36.3+ KB\n"
          ],
          "name": "stdout"
        }
      ]
    },
    {
      "cell_type": "code",
      "metadata": {
        "colab": {
          "base_uri": "https://localhost:8080/",
          "height": 297
        },
        "id": "oPAl_venHVMZ",
        "outputId": "c5ca3c0a-d60f-4dc5-9996-c8bc55493a15"
      },
      "source": [
        "df_balti_teenagebirths.describe()"
      ],
      "execution_count": 14,
      "outputs": [
        {
          "output_type": "execute_result",
          "data": {
            "text/html": [
              "<div>\n",
              "<style scoped>\n",
              "    .dataframe tbody tr th:only-of-type {\n",
              "        vertical-align: middle;\n",
              "    }\n",
              "\n",
              "    .dataframe tbody tr th {\n",
              "        vertical-align: top;\n",
              "    }\n",
              "\n",
              "    .dataframe thead th {\n",
              "        text-align: right;\n",
              "    }\n",
              "</style>\n",
              "<table border=\"1\" class=\"dataframe\">\n",
              "  <thead>\n",
              "    <tr style=\"text-align: right;\">\n",
              "      <th></th>\n",
              "      <th>tract</th>\n",
              "      <th>Teenage_Birth_Rate_women_only_rP_gF_pall</th>\n",
              "    </tr>\n",
              "  </thead>\n",
              "  <tbody>\n",
              "    <tr>\n",
              "      <th>count</th>\n",
              "      <td>7.720000e+02</td>\n",
              "      <td>765.000000</td>\n",
              "    </tr>\n",
              "    <tr>\n",
              "      <th>mean</th>\n",
              "      <td>2.449449e+10</td>\n",
              "      <td>0.362926</td>\n",
              "    </tr>\n",
              "    <tr>\n",
              "      <th>std</th>\n",
              "      <td>8.771303e+07</td>\n",
              "      <td>0.148345</td>\n",
              "    </tr>\n",
              "    <tr>\n",
              "      <th>min</th>\n",
              "      <td>2.400375e+10</td>\n",
              "      <td>0.009800</td>\n",
              "    </tr>\n",
              "    <tr>\n",
              "      <th>25%</th>\n",
              "      <td>2.451012e+10</td>\n",
              "      <td>0.254200</td>\n",
              "    </tr>\n",
              "    <tr>\n",
              "      <th>50%</th>\n",
              "      <td>2.451019e+10</td>\n",
              "      <td>0.375300</td>\n",
              "    </tr>\n",
              "    <tr>\n",
              "      <th>75%</th>\n",
              "      <td>2.451026e+10</td>\n",
              "      <td>0.482300</td>\n",
              "    </tr>\n",
              "    <tr>\n",
              "      <th>max</th>\n",
              "      <td>2.451028e+10</td>\n",
              "      <td>0.659600</td>\n",
              "    </tr>\n",
              "  </tbody>\n",
              "</table>\n",
              "</div>"
            ],
            "text/plain": [
              "              tract  Teenage_Birth_Rate_women_only_rP_gF_pall\n",
              "count  7.720000e+02                                765.000000\n",
              "mean   2.449449e+10                                  0.362926\n",
              "std    8.771303e+07                                  0.148345\n",
              "min    2.400375e+10                                  0.009800\n",
              "25%    2.451012e+10                                  0.254200\n",
              "50%    2.451019e+10                                  0.375300\n",
              "75%    2.451026e+10                                  0.482300\n",
              "max    2.451028e+10                                  0.659600"
            ]
          },
          "metadata": {
            "tags": []
          },
          "execution_count": 14
        }
      ]
    },
    {
      "cell_type": "code",
      "metadata": {
        "colab": {
          "base_uri": "https://localhost:8080/",
          "height": 204
        },
        "id": "mQtoxYUAP3OW",
        "outputId": "62f95f2c-0b66-49c7-8768-3e9f8b2edefd"
      },
      "source": [
        "# rename columns teenage birth rates for balti\n",
        "df_balti_teenagebirths = df_balti_teenagebirths.rename(columns={\"Teenage_Birth_Rate_women_only_rP_gF_pall\":\"Teenage Birth Rate\"})\n",
        "\n",
        "# preview new column names\n",
        "df_balti_teenagebirths.head()"
      ],
      "execution_count": 77,
      "outputs": [
        {
          "output_type": "execute_result",
          "data": {
            "text/html": [
              "<div>\n",
              "<style scoped>\n",
              "    .dataframe tbody tr th:only-of-type {\n",
              "        vertical-align: middle;\n",
              "    }\n",
              "\n",
              "    .dataframe tbody tr th {\n",
              "        vertical-align: top;\n",
              "    }\n",
              "\n",
              "    .dataframe thead th {\n",
              "        text-align: right;\n",
              "    }\n",
              "</style>\n",
              "<table border=\"1\" class=\"dataframe\">\n",
              "  <thead>\n",
              "    <tr style=\"text-align: right;\">\n",
              "      <th></th>\n",
              "      <th>tract</th>\n",
              "      <th>Neighborhood</th>\n",
              "      <th>City</th>\n",
              "      <th>State</th>\n",
              "      <th>Teenage Birth Rate</th>\n",
              "      <th>Income</th>\n",
              "    </tr>\n",
              "  </thead>\n",
              "  <tbody>\n",
              "    <tr>\n",
              "      <th>0</th>\n",
              "      <td>24510280500</td>\n",
              "      <td>Pleasant View Gardens</td>\n",
              "      <td>Baltimore</td>\n",
              "      <td>MD</td>\n",
              "      <td>0.6596</td>\n",
              "      <td>All</td>\n",
              "    </tr>\n",
              "    <tr>\n",
              "      <th>1</th>\n",
              "      <td>24510250204</td>\n",
              "      <td>Cherry Hill</td>\n",
              "      <td>Baltimore</td>\n",
              "      <td>MD</td>\n",
              "      <td>0.6561</td>\n",
              "      <td>All</td>\n",
              "    </tr>\n",
              "    <tr>\n",
              "      <th>2</th>\n",
              "      <td>24510120400</td>\n",
              "      <td>Barclay</td>\n",
              "      <td>Baltimore</td>\n",
              "      <td>MD</td>\n",
              "      <td>0.6273</td>\n",
              "      <td>All</td>\n",
              "    </tr>\n",
              "    <tr>\n",
              "      <th>3</th>\n",
              "      <td>24510200100</td>\n",
              "      <td>Lexington</td>\n",
              "      <td>Baltimore</td>\n",
              "      <td>MD</td>\n",
              "      <td>0.6078</td>\n",
              "      <td>All</td>\n",
              "    </tr>\n",
              "    <tr>\n",
              "      <th>4</th>\n",
              "      <td>24510170200</td>\n",
              "      <td>McCulloh Homes</td>\n",
              "      <td>Baltimore</td>\n",
              "      <td>MD</td>\n",
              "      <td>0.6074</td>\n",
              "      <td>All</td>\n",
              "    </tr>\n",
              "  </tbody>\n",
              "</table>\n",
              "</div>"
            ],
            "text/plain": [
              "         tract           Neighborhood  ... Teenage Birth Rate Income\n",
              "0  24510280500  Pleasant View Gardens  ...             0.6596    All\n",
              "1  24510250204            Cherry Hill  ...             0.6561    All\n",
              "2  24510120400                Barclay  ...             0.6273    All\n",
              "3  24510200100              Lexington  ...             0.6078    All\n",
              "4  24510170200         McCulloh Homes  ...             0.6074    All\n",
              "\n",
              "[5 rows x 6 columns]"
            ]
          },
          "metadata": {
            "tags": []
          },
          "execution_count": 77
        }
      ]
    },
    {
      "cell_type": "code",
      "metadata": {
        "colab": {
          "base_uri": "https://localhost:8080/",
          "height": 204
        },
        "id": "SKI71i8VQ9bZ",
        "outputId": "01612d59-b943-46e1-f79c-c98fbe260a02"
      },
      "source": [
        "# rename columns teenage births for nyc\n",
        "df_nyc_teenagebirths = df_nyc_teenagebirths.rename(columns={\"Teenage_Birth_Rate_women_only_rP_gF_pall\":\"Teenage Birth Rate\"})\n",
        "\n",
        "# preview new column names\n",
        "df_nyc_teenagebirths.head()\n"
      ],
      "execution_count": 79,
      "outputs": [
        {
          "output_type": "execute_result",
          "data": {
            "text/html": [
              "<div>\n",
              "<style scoped>\n",
              "    .dataframe tbody tr th:only-of-type {\n",
              "        vertical-align: middle;\n",
              "    }\n",
              "\n",
              "    .dataframe tbody tr th {\n",
              "        vertical-align: top;\n",
              "    }\n",
              "\n",
              "    .dataframe thead th {\n",
              "        text-align: right;\n",
              "    }\n",
              "</style>\n",
              "<table border=\"1\" class=\"dataframe\">\n",
              "  <thead>\n",
              "    <tr style=\"text-align: right;\">\n",
              "      <th></th>\n",
              "      <th>tract</th>\n",
              "      <th>Neighborhood</th>\n",
              "      <th>City</th>\n",
              "      <th>State</th>\n",
              "      <th>Teenage Birth Rate</th>\n",
              "      <th>Income</th>\n",
              "    </tr>\n",
              "  </thead>\n",
              "  <tbody>\n",
              "    <tr>\n",
              "      <th>0</th>\n",
              "      <td>36061020600</td>\n",
              "      <td>East Harlem</td>\n",
              "      <td>New York</td>\n",
              "      <td>NY</td>\n",
              "      <td>0.4863</td>\n",
              "      <td>All</td>\n",
              "    </tr>\n",
              "    <tr>\n",
              "      <th>1</th>\n",
              "      <td>36061025900</td>\n",
              "      <td>Harlem</td>\n",
              "      <td>New York</td>\n",
              "      <td>NY</td>\n",
              "      <td>0.4440</td>\n",
              "      <td>All</td>\n",
              "    </tr>\n",
              "    <tr>\n",
              "      <th>2</th>\n",
              "      <td>36061023502</td>\n",
              "      <td>Harlem</td>\n",
              "      <td>New York</td>\n",
              "      <td>NY</td>\n",
              "      <td>0.4146</td>\n",
              "      <td>All</td>\n",
              "    </tr>\n",
              "    <tr>\n",
              "      <th>3</th>\n",
              "      <td>36061022800</td>\n",
              "      <td>Harlem</td>\n",
              "      <td>New York</td>\n",
              "      <td>NY</td>\n",
              "      <td>0.4125</td>\n",
              "      <td>All</td>\n",
              "    </tr>\n",
              "    <tr>\n",
              "      <th>4</th>\n",
              "      <td>36061023200</td>\n",
              "      <td>Harlem</td>\n",
              "      <td>New York</td>\n",
              "      <td>NY</td>\n",
              "      <td>0.3984</td>\n",
              "      <td>All</td>\n",
              "    </tr>\n",
              "  </tbody>\n",
              "</table>\n",
              "</div>"
            ],
            "text/plain": [
              "         tract Neighborhood       City State  Teenage Birth Rate Income\n",
              "0  36061020600  East Harlem   New York    NY              0.4863    All\n",
              "1  36061025900       Harlem   New York    NY              0.4440    All\n",
              "2  36061023502       Harlem   New York    NY              0.4146    All\n",
              "3  36061022800       Harlem   New York    NY              0.4125    All\n",
              "4  36061023200       Harlem   New York    NY              0.3984    All"
            ]
          },
          "metadata": {
            "tags": []
          },
          "execution_count": 79
        }
      ]
    },
    {
      "cell_type": "markdown",
      "metadata": {
        "id": "nbHNUB8DS8MD"
      },
      "source": [
        "# Removing Null Values for Teenage Birth Rates"
      ]
    },
    {
      "cell_type": "code",
      "metadata": {
        "colab": {
          "base_uri": "https://localhost:8080/"
        },
        "id": "kiE4zOf1TSJ1",
        "outputId": "aa1c8350-69a3-4197-af4e-69a64e93f2b3"
      },
      "source": [
        "# check for number of null values in balti df\n",
        "df_balti_teenagebirths.isnull().sum()"
      ],
      "execution_count": 87,
      "outputs": [
        {
          "output_type": "execute_result",
          "data": {
            "text/plain": [
              "tract                 0\n",
              "Neighborhood          0\n",
              "City                  0\n",
              "State                 0\n",
              "Teenage Birth Rate    7\n",
              "Income                0\n",
              "dtype: int64"
            ]
          },
          "metadata": {
            "tags": []
          },
          "execution_count": 87
        }
      ]
    },
    {
      "cell_type": "code",
      "metadata": {
        "colab": {
          "base_uri": "https://localhost:8080/"
        },
        "id": "pNkSnSyJUFLm",
        "outputId": "3219f850-a925-4d8e-8304-69523ed1ffa0"
      },
      "source": [
        "# check for number of null values in nyc df\n",
        "df_nyc_teenagebirths.isnull().sum()"
      ],
      "execution_count": 88,
      "outputs": [
        {
          "output_type": "execute_result",
          "data": {
            "text/plain": [
              "tract                  0\n",
              "Neighborhood           0\n",
              "City                   0\n",
              "State                  0\n",
              "Teenage Birth Rate    61\n",
              "Income                 0\n",
              "dtype: int64"
            ]
          },
          "metadata": {
            "tags": []
          },
          "execution_count": 88
        }
      ]
    },
    {
      "cell_type": "code",
      "metadata": {
        "id": "7PHHIIwBUd9L"
      },
      "source": [
        "# remove null values for balti \n",
        "modified_df_balti_teenagebirths = df_balti_teenagebirths.dropna()"
      ],
      "execution_count": 89,
      "outputs": []
    },
    {
      "cell_type": "code",
      "metadata": {
        "colab": {
          "base_uri": "https://localhost:8080/"
        },
        "id": "dSkySJU4Uxby",
        "outputId": "d77c0860-df87-4e57-ccf1-b266c83c7d76"
      },
      "source": [
        "# check balti null values were removed\n",
        "modified_df_balti_teenagebirths.isnull().sum()"
      ],
      "execution_count": 90,
      "outputs": [
        {
          "output_type": "execute_result",
          "data": {
            "text/plain": [
              "tract                 0\n",
              "Neighborhood          0\n",
              "City                  0\n",
              "State                 0\n",
              "Teenage Birth Rate    0\n",
              "Income                0\n",
              "dtype: int64"
            ]
          },
          "metadata": {
            "tags": []
          },
          "execution_count": 90
        }
      ]
    },
    {
      "cell_type": "code",
      "metadata": {
        "id": "9U_uObgLU5qc"
      },
      "source": [
        "# remove null values for nyc\n",
        "modified_df_nyc_teenagebirths = df_nyc_teenagebirths.dropna()"
      ],
      "execution_count": 91,
      "outputs": []
    },
    {
      "cell_type": "code",
      "metadata": {
        "colab": {
          "base_uri": "https://localhost:8080/"
        },
        "id": "B-x5lqNgU_-k",
        "outputId": "db433d2f-23de-49f7-c52e-1fc69e95588a"
      },
      "source": [
        "# check nyc null values were removed\n",
        "modified_df_nyc_teenagebirths.isnull().sum()"
      ],
      "execution_count": 92,
      "outputs": [
        {
          "output_type": "execute_result",
          "data": {
            "text/plain": [
              "tract                 0\n",
              "Neighborhood          0\n",
              "City                  0\n",
              "State                 0\n",
              "Teenage Birth Rate    0\n",
              "Income                0\n",
              "dtype: int64"
            ]
          },
          "metadata": {
            "tags": []
          },
          "execution_count": 92
        }
      ]
    },
    {
      "cell_type": "markdown",
      "metadata": {
        "id": "4-LB7kARLgQ-"
      },
      "source": [
        "# Pivot Tables with Teenage Birth Rates per Neighborhood by Income Level "
      ]
    },
    {
      "cell_type": "code",
      "metadata": {
        "id": "LoUd29sbhs7u"
      },
      "source": [
        "# pivot table for balti teenage birth rates by income level \n",
        "pvmodified_df_balti_teenagebirths = pd.pivot_table(modified_df_balti_teenagebirths,\n",
        "                    index = \"Neighborhood\",\n",
        "                    columns = \"Income\",\n",
        "                    values = \"Teenage Birth Rate\",\n",
        "                    aggfunc = np.mean).reset_index()"
      ],
      "execution_count": 93,
      "outputs": []
    },
    {
      "cell_type": "code",
      "metadata": {
        "colab": {
          "base_uri": "https://localhost:8080/",
          "height": 514
        },
        "id": "GuUe2f8XhyFj",
        "outputId": "582ec116-57ec-442e-d034-99c0339d2aeb"
      },
      "source": [
        "# preview balti pivot table\n",
        "pvmodified_df_balti_teenagebirths.head(15)"
      ],
      "execution_count": 97,
      "outputs": [
        {
          "output_type": "execute_result",
          "data": {
            "text/html": [
              "<div>\n",
              "<style scoped>\n",
              "    .dataframe tbody tr th:only-of-type {\n",
              "        vertical-align: middle;\n",
              "    }\n",
              "\n",
              "    .dataframe tbody tr th {\n",
              "        vertical-align: top;\n",
              "    }\n",
              "\n",
              "    .dataframe thead th {\n",
              "        text-align: right;\n",
              "    }\n",
              "</style>\n",
              "<table border=\"1\" class=\"dataframe\">\n",
              "  <thead>\n",
              "    <tr style=\"text-align: right;\">\n",
              "      <th>Income</th>\n",
              "      <th>Neighborhood</th>\n",
              "      <th>All</th>\n",
              "      <th>High</th>\n",
              "      <th>Low</th>\n",
              "      <th>Middle</th>\n",
              "    </tr>\n",
              "  </thead>\n",
              "  <tbody>\n",
              "    <tr>\n",
              "      <th>0</th>\n",
              "      <td>Allendale</td>\n",
              "      <td>0.47370</td>\n",
              "      <td>0.452600</td>\n",
              "      <td>0.477700</td>\n",
              "      <td>0.46330</td>\n",
              "    </tr>\n",
              "    <tr>\n",
              "      <th>1</th>\n",
              "      <td>Arcadia</td>\n",
              "      <td>0.25500</td>\n",
              "      <td>0.082300</td>\n",
              "      <td>0.452500</td>\n",
              "      <td>0.24040</td>\n",
              "    </tr>\n",
              "    <tr>\n",
              "      <th>2</th>\n",
              "      <td>Arlington</td>\n",
              "      <td>0.50460</td>\n",
              "      <td>0.302400</td>\n",
              "      <td>0.532000</td>\n",
              "      <td>0.40040</td>\n",
              "    </tr>\n",
              "    <tr>\n",
              "      <th>3</th>\n",
              "      <td>Armistead Gardens</td>\n",
              "      <td>0.28840</td>\n",
              "      <td>0.175600</td>\n",
              "      <td>0.327300</td>\n",
              "      <td>0.24030</td>\n",
              "    </tr>\n",
              "    <tr>\n",
              "      <th>4</th>\n",
              "      <td>Baltimore Highlands</td>\n",
              "      <td>0.38715</td>\n",
              "      <td>0.125400</td>\n",
              "      <td>0.443350</td>\n",
              "      <td>0.26115</td>\n",
              "    </tr>\n",
              "    <tr>\n",
              "      <th>5</th>\n",
              "      <td>Barclay</td>\n",
              "      <td>0.62730</td>\n",
              "      <td>0.386500</td>\n",
              "      <td>0.616700</td>\n",
              "      <td>0.48480</td>\n",
              "    </tr>\n",
              "    <tr>\n",
              "      <th>6</th>\n",
              "      <td>Beechfield</td>\n",
              "      <td>0.41420</td>\n",
              "      <td>0.190200</td>\n",
              "      <td>0.526000</td>\n",
              "      <td>0.33360</td>\n",
              "    </tr>\n",
              "    <tr>\n",
              "      <th>7</th>\n",
              "      <td>Belair - Edison</td>\n",
              "      <td>0.44495</td>\n",
              "      <td>0.289725</td>\n",
              "      <td>0.516375</td>\n",
              "      <td>0.38650</td>\n",
              "    </tr>\n",
              "    <tr>\n",
              "      <th>8</th>\n",
              "      <td>Bentalou-Smallwood</td>\n",
              "      <td>0.55980</td>\n",
              "      <td>0.306300</td>\n",
              "      <td>0.557000</td>\n",
              "      <td>0.41340</td>\n",
              "    </tr>\n",
              "    <tr>\n",
              "      <th>9</th>\n",
              "      <td>Berea</td>\n",
              "      <td>0.54010</td>\n",
              "      <td>0.382050</td>\n",
              "      <td>0.574400</td>\n",
              "      <td>0.46415</td>\n",
              "    </tr>\n",
              "    <tr>\n",
              "      <th>10</th>\n",
              "      <td>Better Waverly</td>\n",
              "      <td>0.52800</td>\n",
              "      <td>0.224750</td>\n",
              "      <td>0.559600</td>\n",
              "      <td>0.36770</td>\n",
              "    </tr>\n",
              "    <tr>\n",
              "      <th>11</th>\n",
              "      <td>Bolton Hill</td>\n",
              "      <td>0.30920</td>\n",
              "      <td>0.121700</td>\n",
              "      <td>0.527400</td>\n",
              "      <td>0.29490</td>\n",
              "    </tr>\n",
              "    <tr>\n",
              "      <th>12</th>\n",
              "      <td>Bridgeview-Greenlawn</td>\n",
              "      <td>0.45340</td>\n",
              "      <td>0.316900</td>\n",
              "      <td>0.476800</td>\n",
              "      <td>0.38520</td>\n",
              "    </tr>\n",
              "    <tr>\n",
              "      <th>13</th>\n",
              "      <td>Broadway East</td>\n",
              "      <td>0.57378</td>\n",
              "      <td>0.497420</td>\n",
              "      <td>0.579460</td>\n",
              "      <td>0.53246</td>\n",
              "    </tr>\n",
              "    <tr>\n",
              "      <th>14</th>\n",
              "      <td>Brooklyn</td>\n",
              "      <td>0.34245</td>\n",
              "      <td>0.201300</td>\n",
              "      <td>0.397725</td>\n",
              "      <td>0.33330</td>\n",
              "    </tr>\n",
              "  </tbody>\n",
              "</table>\n",
              "</div>"
            ],
            "text/plain": [
              "Income          Neighborhood      All      High       Low   Middle\n",
              "0                  Allendale  0.47370  0.452600  0.477700  0.46330\n",
              "1                    Arcadia  0.25500  0.082300  0.452500  0.24040\n",
              "2                  Arlington  0.50460  0.302400  0.532000  0.40040\n",
              "3          Armistead Gardens  0.28840  0.175600  0.327300  0.24030\n",
              "4        Baltimore Highlands  0.38715  0.125400  0.443350  0.26115\n",
              "5                    Barclay  0.62730  0.386500  0.616700  0.48480\n",
              "6                 Beechfield  0.41420  0.190200  0.526000  0.33360\n",
              "7            Belair - Edison  0.44495  0.289725  0.516375  0.38650\n",
              "8         Bentalou-Smallwood  0.55980  0.306300  0.557000  0.41340\n",
              "9                      Berea  0.54010  0.382050  0.574400  0.46415\n",
              "10            Better Waverly  0.52800  0.224750  0.559600  0.36770\n",
              "11               Bolton Hill  0.30920  0.121700  0.527400  0.29490\n",
              "12      Bridgeview-Greenlawn  0.45340  0.316900  0.476800  0.38520\n",
              "13             Broadway East  0.57378  0.497420  0.579460  0.53246\n",
              "14                  Brooklyn  0.34245  0.201300  0.397725  0.33330"
            ]
          },
          "metadata": {
            "tags": []
          },
          "execution_count": 97
        }
      ]
    },
    {
      "cell_type": "code",
      "metadata": {
        "id": "CwpVIU5_h3ia"
      },
      "source": [
        "# pivot table for nyc teenage birth rates by income level\n",
        "pvmodified_df_nyc_teenagebirths = pd.pivot_table(modified_df_nyc_teenagebirths,\n",
        "                    index = \"Neighborhood\",\n",
        "                    columns = \"Income\",\n",
        "                    values = \"Teenage Birth Rate\",\n",
        "                    aggfunc = np.mean).reset_index()"
      ],
      "execution_count": 95,
      "outputs": []
    },
    {
      "cell_type": "code",
      "metadata": {
        "colab": {
          "base_uri": "https://localhost:8080/",
          "height": 514
        },
        "id": "nzUA-ByCiAf9",
        "outputId": "023774d8-9264-432f-c5ef-49ab3e3fc1d0"
      },
      "source": [
        "# preview nyc pivot table\n",
        "pvmodified_df_nyc_teenagebirths.head(15)"
      ],
      "execution_count": 98,
      "outputs": [
        {
          "output_type": "execute_result",
          "data": {
            "text/html": [
              "<div>\n",
              "<style scoped>\n",
              "    .dataframe tbody tr th:only-of-type {\n",
              "        vertical-align: middle;\n",
              "    }\n",
              "\n",
              "    .dataframe tbody tr th {\n",
              "        vertical-align: top;\n",
              "    }\n",
              "\n",
              "    .dataframe thead th {\n",
              "        text-align: right;\n",
              "    }\n",
              "</style>\n",
              "<table border=\"1\" class=\"dataframe\">\n",
              "  <thead>\n",
              "    <tr style=\"text-align: right;\">\n",
              "      <th>Income</th>\n",
              "      <th>Neighborhood</th>\n",
              "      <th>All</th>\n",
              "      <th>High</th>\n",
              "      <th>Low</th>\n",
              "      <th>Middle</th>\n",
              "    </tr>\n",
              "  </thead>\n",
              "  <tbody>\n",
              "    <tr>\n",
              "      <th>0</th>\n",
              "      <td>Alphabet City</td>\n",
              "      <td>0.208033</td>\n",
              "      <td>0.221050</td>\n",
              "      <td>0.206083</td>\n",
              "      <td>0.214650</td>\n",
              "    </tr>\n",
              "    <tr>\n",
              "      <th>1</th>\n",
              "      <td>Bloomingdale</td>\n",
              "      <td>0.101450</td>\n",
              "      <td>0.070850</td>\n",
              "      <td>0.159900</td>\n",
              "      <td>0.108850</td>\n",
              "    </tr>\n",
              "    <tr>\n",
              "      <th>2</th>\n",
              "      <td>Bowery</td>\n",
              "      <td>0.115800</td>\n",
              "      <td>0.091150</td>\n",
              "      <td>0.108100</td>\n",
              "      <td>0.098400</td>\n",
              "    </tr>\n",
              "    <tr>\n",
              "      <th>3</th>\n",
              "      <td>Chinatown</td>\n",
              "      <td>0.016667</td>\n",
              "      <td>0.009767</td>\n",
              "      <td>0.028633</td>\n",
              "      <td>0.013367</td>\n",
              "    </tr>\n",
              "    <tr>\n",
              "      <th>4</th>\n",
              "      <td>East Harlem</td>\n",
              "      <td>0.314089</td>\n",
              "      <td>0.220367</td>\n",
              "      <td>0.339106</td>\n",
              "      <td>0.271061</td>\n",
              "    </tr>\n",
              "    <tr>\n",
              "      <th>5</th>\n",
              "      <td>East Village</td>\n",
              "      <td>0.125000</td>\n",
              "      <td>0.090200</td>\n",
              "      <td>0.127700</td>\n",
              "      <td>0.106200</td>\n",
              "    </tr>\n",
              "    <tr>\n",
              "      <th>6</th>\n",
              "      <td>Fort George</td>\n",
              "      <td>0.209675</td>\n",
              "      <td>0.121713</td>\n",
              "      <td>0.228250</td>\n",
              "      <td>0.167188</td>\n",
              "    </tr>\n",
              "    <tr>\n",
              "      <th>7</th>\n",
              "      <td>Gramercy Park</td>\n",
              "      <td>0.041133</td>\n",
              "      <td>0.041000</td>\n",
              "      <td>0.073467</td>\n",
              "      <td>0.054867</td>\n",
              "    </tr>\n",
              "    <tr>\n",
              "      <th>8</th>\n",
              "      <td>Harlem</td>\n",
              "      <td>0.330193</td>\n",
              "      <td>0.215153</td>\n",
              "      <td>0.344340</td>\n",
              "      <td>0.270313</td>\n",
              "    </tr>\n",
              "    <tr>\n",
              "      <th>9</th>\n",
              "      <td>Hell's Kitchen</td>\n",
              "      <td>0.144429</td>\n",
              "      <td>0.090500</td>\n",
              "      <td>0.190586</td>\n",
              "      <td>0.124900</td>\n",
              "    </tr>\n",
              "    <tr>\n",
              "      <th>10</th>\n",
              "      <td>Hudson Heights</td>\n",
              "      <td>0.176200</td>\n",
              "      <td>0.115800</td>\n",
              "      <td>0.181500</td>\n",
              "      <td>0.143800</td>\n",
              "    </tr>\n",
              "    <tr>\n",
              "      <th>11</th>\n",
              "      <td>Inwood</td>\n",
              "      <td>0.206360</td>\n",
              "      <td>0.141840</td>\n",
              "      <td>0.229120</td>\n",
              "      <td>0.179100</td>\n",
              "    </tr>\n",
              "    <tr>\n",
              "      <th>12</th>\n",
              "      <td>Kips Bay</td>\n",
              "      <td>0.032900</td>\n",
              "      <td>0.024875</td>\n",
              "      <td>0.067175</td>\n",
              "      <td>0.041500</td>\n",
              "    </tr>\n",
              "    <tr>\n",
              "      <th>13</th>\n",
              "      <td>Lenox Hill</td>\n",
              "      <td>0.023783</td>\n",
              "      <td>0.020542</td>\n",
              "      <td>0.049133</td>\n",
              "      <td>0.031583</td>\n",
              "    </tr>\n",
              "    <tr>\n",
              "      <th>14</th>\n",
              "      <td>Lincoln Square</td>\n",
              "      <td>0.066514</td>\n",
              "      <td>0.057957</td>\n",
              "      <td>0.086071</td>\n",
              "      <td>0.067114</td>\n",
              "    </tr>\n",
              "  </tbody>\n",
              "</table>\n",
              "</div>"
            ],
            "text/plain": [
              "Income    Neighborhood       All      High       Low    Middle\n",
              "0        Alphabet City  0.208033  0.221050  0.206083  0.214650\n",
              "1         Bloomingdale  0.101450  0.070850  0.159900  0.108850\n",
              "2               Bowery  0.115800  0.091150  0.108100  0.098400\n",
              "3            Chinatown  0.016667  0.009767  0.028633  0.013367\n",
              "4          East Harlem  0.314089  0.220367  0.339106  0.271061\n",
              "5         East Village  0.125000  0.090200  0.127700  0.106200\n",
              "6          Fort George  0.209675  0.121713  0.228250  0.167188\n",
              "7        Gramercy Park  0.041133  0.041000  0.073467  0.054867\n",
              "8               Harlem  0.330193  0.215153  0.344340  0.270313\n",
              "9       Hell's Kitchen  0.144429  0.090500  0.190586  0.124900\n",
              "10      Hudson Heights  0.176200  0.115800  0.181500  0.143800\n",
              "11              Inwood  0.206360  0.141840  0.229120  0.179100\n",
              "12            Kips Bay  0.032900  0.024875  0.067175  0.041500\n",
              "13          Lenox Hill  0.023783  0.020542  0.049133  0.031583\n",
              "14      Lincoln Square  0.066514  0.057957  0.086071  0.067114"
            ]
          },
          "metadata": {
            "tags": []
          },
          "execution_count": 98
        }
      ]
    },
    {
      "cell_type": "code",
      "metadata": {
        "id": "ZydNmfn-oerF"
      },
      "source": [
        "# sort balti by all income\n",
        "pvmodified_df_balti_teenagebirths = pvmodified_df_balti_teenagebirths.sort_values(\"All\")"
      ],
      "execution_count": 124,
      "outputs": []
    },
    {
      "cell_type": "code",
      "metadata": {
        "colab": {
          "base_uri": "https://localhost:8080/",
          "height": 359
        },
        "id": "tKUYrqCkosWa",
        "outputId": "9ae5aed6-3dd1-4c59-8f96-aea03d253a9d"
      },
      "source": [
        "# preview data\n",
        "pvmodified_df_balti_teenagebirths.head(10)"
      ],
      "execution_count": 121,
      "outputs": [
        {
          "output_type": "execute_result",
          "data": {
            "text/html": [
              "<div>\n",
              "<style scoped>\n",
              "    .dataframe tbody tr th:only-of-type {\n",
              "        vertical-align: middle;\n",
              "    }\n",
              "\n",
              "    .dataframe tbody tr th {\n",
              "        vertical-align: top;\n",
              "    }\n",
              "\n",
              "    .dataframe thead th {\n",
              "        text-align: right;\n",
              "    }\n",
              "</style>\n",
              "<table border=\"1\" class=\"dataframe\">\n",
              "  <thead>\n",
              "    <tr style=\"text-align: right;\">\n",
              "      <th>Income</th>\n",
              "      <th>Neighborhood</th>\n",
              "      <th>All</th>\n",
              "      <th>High</th>\n",
              "      <th>Low</th>\n",
              "      <th>Middle</th>\n",
              "      <th>avg_teenage_birth_rate_all</th>\n",
              "    </tr>\n",
              "  </thead>\n",
              "  <tbody>\n",
              "    <tr>\n",
              "      <th>84</th>\n",
              "      <td>Mount Washington</td>\n",
              "      <td>0.00980</td>\n",
              "      <td>0.0298</td>\n",
              "      <td>0.06990</td>\n",
              "      <td>0.04690</td>\n",
              "      <td>0.00980</td>\n",
              "    </tr>\n",
              "    <tr>\n",
              "      <th>109</th>\n",
              "      <td>Roland Park</td>\n",
              "      <td>0.01080</td>\n",
              "      <td>0.0121</td>\n",
              "      <td>0.08280</td>\n",
              "      <td>0.04230</td>\n",
              "      <td>0.01080</td>\n",
              "    </tr>\n",
              "    <tr>\n",
              "      <th>115</th>\n",
              "      <td>Tuscany - Canterbury</td>\n",
              "      <td>0.01660</td>\n",
              "      <td>0.0220</td>\n",
              "      <td>0.10800</td>\n",
              "      <td>0.05870</td>\n",
              "      <td>0.01660</td>\n",
              "    </tr>\n",
              "    <tr>\n",
              "      <th>39</th>\n",
              "      <td>Evergreen</td>\n",
              "      <td>0.01790</td>\n",
              "      <td>0.0367</td>\n",
              "      <td>0.14740</td>\n",
              "      <td>0.08400</td>\n",
              "      <td>0.01790</td>\n",
              "    </tr>\n",
              "    <tr>\n",
              "      <th>58</th>\n",
              "      <td>Homeland</td>\n",
              "      <td>0.02510</td>\n",
              "      <td>0.0503</td>\n",
              "      <td>0.15800</td>\n",
              "      <td>0.09630</td>\n",
              "      <td>0.02510</td>\n",
              "    </tr>\n",
              "    <tr>\n",
              "      <th>22</th>\n",
              "      <td>Cheswolde</td>\n",
              "      <td>0.04370</td>\n",
              "      <td>0.0258</td>\n",
              "      <td>0.14540</td>\n",
              "      <td>0.07690</td>\n",
              "      <td>0.04370</td>\n",
              "    </tr>\n",
              "    <tr>\n",
              "      <th>27</th>\n",
              "      <td>Cross Country</td>\n",
              "      <td>0.05850</td>\n",
              "      <td>0.0287</td>\n",
              "      <td>0.14980</td>\n",
              "      <td>0.08040</td>\n",
              "      <td>0.05850</td>\n",
              "    </tr>\n",
              "    <tr>\n",
              "      <th>75</th>\n",
              "      <td>Mid-Charles</td>\n",
              "      <td>0.09330</td>\n",
              "      <td>0.1786</td>\n",
              "      <td>0.62470</td>\n",
              "      <td>0.36910</td>\n",
              "      <td>0.09330</td>\n",
              "    </tr>\n",
              "    <tr>\n",
              "      <th>101</th>\n",
              "      <td>Radnor - Winston</td>\n",
              "      <td>0.14570</td>\n",
              "      <td>0.0328</td>\n",
              "      <td>0.32570</td>\n",
              "      <td>0.15780</td>\n",
              "      <td>0.14570</td>\n",
              "    </tr>\n",
              "    <tr>\n",
              "      <th>87</th>\n",
              "      <td>North Harford Road</td>\n",
              "      <td>0.14645</td>\n",
              "      <td>0.1102</td>\n",
              "      <td>0.21555</td>\n",
              "      <td>0.15515</td>\n",
              "      <td>0.14645</td>\n",
              "    </tr>\n",
              "  </tbody>\n",
              "</table>\n",
              "</div>"
            ],
            "text/plain": [
              "Income          Neighborhood      All  ...   Middle  avg_teenage_birth_rate_all\n",
              "84          Mount Washington  0.00980  ...  0.04690                     0.00980\n",
              "109              Roland Park  0.01080  ...  0.04230                     0.01080\n",
              "115     Tuscany - Canterbury  0.01660  ...  0.05870                     0.01660\n",
              "39                 Evergreen  0.01790  ...  0.08400                     0.01790\n",
              "58                  Homeland  0.02510  ...  0.09630                     0.02510\n",
              "22                 Cheswolde  0.04370  ...  0.07690                     0.04370\n",
              "27             Cross Country  0.05850  ...  0.08040                     0.05850\n",
              "75               Mid-Charles  0.09330  ...  0.36910                     0.09330\n",
              "101         Radnor - Winston  0.14570  ...  0.15780                     0.14570\n",
              "87        North Harford Road  0.14645  ...  0.15515                     0.14645\n",
              "\n",
              "[10 rows x 6 columns]"
            ]
          },
          "metadata": {
            "tags": []
          },
          "execution_count": 121
        }
      ]
    },
    {
      "cell_type": "code",
      "metadata": {
        "colab": {
          "base_uri": "https://localhost:8080/",
          "height": 359
        },
        "id": "haPG3Gu-qu39",
        "outputId": "9e5cae4f-e1d4-4542-b785-8e45172ecbd8"
      },
      "source": [
        "# sort nyc by all income\n",
        "pvmodified_df_nyc_teenagebirths = pvmodified_df_nyc_teenagebirths.sort_values(\"All\")\n",
        "\n",
        "# preview data\n",
        "pvmodified_df_nyc_teenagebirths.head(10)"
      ],
      "execution_count": 136,
      "outputs": [
        {
          "output_type": "execute_result",
          "data": {
            "text/html": [
              "<div>\n",
              "<style scoped>\n",
              "    .dataframe tbody tr th:only-of-type {\n",
              "        vertical-align: middle;\n",
              "    }\n",
              "\n",
              "    .dataframe tbody tr th {\n",
              "        vertical-align: top;\n",
              "    }\n",
              "\n",
              "    .dataframe thead th {\n",
              "        text-align: right;\n",
              "    }\n",
              "</style>\n",
              "<table border=\"1\" class=\"dataframe\">\n",
              "  <thead>\n",
              "    <tr style=\"text-align: right;\">\n",
              "      <th>Income</th>\n",
              "      <th>Neighborhood</th>\n",
              "      <th>All</th>\n",
              "      <th>High</th>\n",
              "      <th>Low</th>\n",
              "      <th>Middle</th>\n",
              "    </tr>\n",
              "  </thead>\n",
              "  <tbody>\n",
              "    <tr>\n",
              "      <th>3</th>\n",
              "      <td>Chinatown</td>\n",
              "      <td>0.016667</td>\n",
              "      <td>0.009767</td>\n",
              "      <td>0.028633</td>\n",
              "      <td>0.013367</td>\n",
              "    </tr>\n",
              "    <tr>\n",
              "      <th>24</th>\n",
              "      <td>Yorkville</td>\n",
              "      <td>0.022000</td>\n",
              "      <td>0.026300</td>\n",
              "      <td>0.058100</td>\n",
              "      <td>0.039900</td>\n",
              "    </tr>\n",
              "    <tr>\n",
              "      <th>13</th>\n",
              "      <td>Lenox Hill</td>\n",
              "      <td>0.023783</td>\n",
              "      <td>0.020542</td>\n",
              "      <td>0.049133</td>\n",
              "      <td>0.031583</td>\n",
              "    </tr>\n",
              "    <tr>\n",
              "      <th>18</th>\n",
              "      <td>Midtown East</td>\n",
              "      <td>0.024700</td>\n",
              "      <td>0.016500</td>\n",
              "      <td>0.025900</td>\n",
              "      <td>0.020500</td>\n",
              "    </tr>\n",
              "    <tr>\n",
              "      <th>20</th>\n",
              "      <td>Upper East Side</td>\n",
              "      <td>0.032378</td>\n",
              "      <td>0.032739</td>\n",
              "      <td>0.081606</td>\n",
              "      <td>0.052889</td>\n",
              "    </tr>\n",
              "    <tr>\n",
              "      <th>12</th>\n",
              "      <td>Kips Bay</td>\n",
              "      <td>0.032900</td>\n",
              "      <td>0.024875</td>\n",
              "      <td>0.067175</td>\n",
              "      <td>0.041500</td>\n",
              "    </tr>\n",
              "    <tr>\n",
              "      <th>7</th>\n",
              "      <td>Gramercy Park</td>\n",
              "      <td>0.041133</td>\n",
              "      <td>0.041000</td>\n",
              "      <td>0.073467</td>\n",
              "      <td>0.054867</td>\n",
              "    </tr>\n",
              "    <tr>\n",
              "      <th>15</th>\n",
              "      <td>Lower East Side</td>\n",
              "      <td>0.062100</td>\n",
              "      <td>0.083500</td>\n",
              "      <td>0.086950</td>\n",
              "      <td>0.084950</td>\n",
              "    </tr>\n",
              "    <tr>\n",
              "      <th>17</th>\n",
              "      <td>Midtown</td>\n",
              "      <td>0.062540</td>\n",
              "      <td>0.040019</td>\n",
              "      <td>0.111703</td>\n",
              "      <td>0.066998</td>\n",
              "    </tr>\n",
              "    <tr>\n",
              "      <th>14</th>\n",
              "      <td>Lincoln Square</td>\n",
              "      <td>0.066514</td>\n",
              "      <td>0.057957</td>\n",
              "      <td>0.086071</td>\n",
              "      <td>0.067114</td>\n",
              "    </tr>\n",
              "  </tbody>\n",
              "</table>\n",
              "</div>"
            ],
            "text/plain": [
              "Income     Neighborhood       All      High       Low    Middle\n",
              "3             Chinatown  0.016667  0.009767  0.028633  0.013367\n",
              "24            Yorkville  0.022000  0.026300  0.058100  0.039900\n",
              "13           Lenox Hill  0.023783  0.020542  0.049133  0.031583\n",
              "18         Midtown East  0.024700  0.016500  0.025900  0.020500\n",
              "20      Upper East Side  0.032378  0.032739  0.081606  0.052889\n",
              "12             Kips Bay  0.032900  0.024875  0.067175  0.041500\n",
              "7         Gramercy Park  0.041133  0.041000  0.073467  0.054867\n",
              "15      Lower East Side  0.062100  0.083500  0.086950  0.084950\n",
              "17              Midtown  0.062540  0.040019  0.111703  0.066998\n",
              "14       Lincoln Square  0.066514  0.057957  0.086071  0.067114"
            ]
          },
          "metadata": {
            "tags": []
          },
          "execution_count": 136
        }
      ]
    },
    {
      "cell_type": "markdown",
      "metadata": {
        "id": "o9SteOS_LJvf"
      },
      "source": [
        "# Create Baltimore Data Visualization"
      ]
    },
    {
      "cell_type": "code",
      "metadata": {
        "id": "Ezbp7Bl-n00i"
      },
      "source": [
        "# bar graph for teenage birth rates in baltimore all income \n",
        "bar_baltiallteenagebirthrate = px.bar(pvmodified_df_balti_teenagebirths,x= \"Neighborhood\", y = \"All\", title = \"Teenage Birth Rates in Baltimore City by All Income\")"
      ],
      "execution_count": 146,
      "outputs": []
    },
    {
      "cell_type": "code",
      "metadata": {
        "colab": {
          "base_uri": "https://localhost:8080/",
          "height": 542
        },
        "id": "26cCtE6Wq4Zb",
        "outputId": "dd7b5712-bbf5-415a-fb6c-c55a55c77341"
      },
      "source": [
        "# data visualization \n",
        "bar_baltiallteenagebirthrate"
      ],
      "execution_count": 147,
      "outputs": [
        {
          "output_type": "display_data",
          "data": {
            "text/html": [
              "<html>\n",
              "<head><meta charset=\"utf-8\" /></head>\n",
              "<body>\n",
              "    <div>\n",
              "            <script src=\"https://cdnjs.cloudflare.com/ajax/libs/mathjax/2.7.5/MathJax.js?config=TeX-AMS-MML_SVG\"></script><script type=\"text/javascript\">if (window.MathJax) {MathJax.Hub.Config({SVG: {font: \"STIX-Web\"}});}</script>\n",
              "                <script type=\"text/javascript\">window.PlotlyConfig = {MathJaxConfig: 'local'};</script>\n",
              "        <script src=\"https://cdn.plot.ly/plotly-latest.min.js\"></script>    \n",
              "            <div id=\"edc7d220-1304-4e8a-983c-fefe451b777d\" class=\"plotly-graph-div\" style=\"height:525px; width:100%;\"></div>\n",
              "            <script type=\"text/javascript\">\n",
              "                \n",
              "                    window.PLOTLYENV=window.PLOTLYENV || {};\n",
              "                    \n",
              "                if (document.getElementById(\"edc7d220-1304-4e8a-983c-fefe451b777d\")) {\n",
              "                    Plotly.newPlot(\n",
              "                        'edc7d220-1304-4e8a-983c-fefe451b777d',\n",
              "                        [{\"alignmentgroup\": \"True\", \"hoverlabel\": {\"namelength\": 0}, \"hovertemplate\": \"Neighborhood=%{x}<br>All=%{y}\", \"legendgroup\": \"\", \"marker\": {\"color\": \"#636efa\"}, \"name\": \"\", \"offsetgroup\": \"\", \"orientation\": \"v\", \"showlegend\": false, \"textposition\": \"auto\", \"type\": \"bar\", \"x\": [\"Mount Washington\", \"Roland Park\", \"Tuscany - Canterbury\", \"Evergreen\", \"Homeland\", \"Cheswolde\", \"Cross Country\", \"Mid-Charles\", \"Radnor - Winston\", \"North Harford Road\", \"Fells Point\", \"Woodring\", \"Medfield\", \"Violetville\", \"Joseph Lee\", \"Fallstaff\", \"Riverside\", \"Fifteenth Street\", \"Lauraville\", \"Cold Springs\", \"Riverside Park\", \"Lake Walker\", \"Waltherson\", \"Canton\", \"Arcadia\", \"Locust Point\", \"Glenham-Belford\", \"Glen\", \"Westgate\", \"Armistead Gardens\", \"Medford - Broening\", \"Morrell Park\", \"Idlewood\", \"West Forest Park\", \"South Baltimore\", \"Upper Fells Point\", \"Woodberry\", \"Bolton Hill\", \"Hampden\", \"Harford - Echodale - Perring Parkway\", \"Cedmont\", \"Gwynn Oak\", \"Brooklyn\", \"Hillen\", \"Curtis Bay\", \"Perring Loch\", \"East Arlington\", \"Lakeland\", \"Loch Raven\", \"Mid-Govans\", \"Baltimore Highlands\", \"Reisterstown Station\", \"Ramblewood\", \"Ednor Gardens - Lakeside\", \"Frankford\", \"Rognel Heights\", \"Patterson Park\", \"Yale Heights\", \"Windsor Hills\", \"Cross Keys\", \"Downtown\", \"Pratt Monroe\", \"Beechfield\", \"Remington\", \"Rosemont\", \"Hollins Market\", \"Parkside\", \"Hanlon Longwood\", \"New Northwood\", \"Belair - Edison\", \"Dorchester\", \"Mill Hill\", \"Poppleton\", \"Bridgeview-Greenlawn\", \"Irvington\", \"Walbrook\", \"Pigtown\", \"Park Circle\", \"Mount Clare\", \"Claremont - Freedom\", \"Woodbrook\", \"Little Italy\", \"Allendale\", \"Edmondson\", \"Winston - Govans\", \"Central Park Heights\", \"Saint Joseph's\", \"Coppin Heights\", \"Reservoir Hill\", \"Garwyn Oaks\", \"Edgecomb\", \"Mondawmin\", \"Arlington\", \"O'Donnell Heights\", \"Old Goucher\", \"Druid Heights\", \"NW Community Action\", \"Cedonia\", \"Coldstream - Homestead - Montebello\", \"Westport\", \"Better Waverly\", \"Harwood\", \"Franklin Square\", \"Berea\", \"Burleith-Leighton\", \"Johnson Square\", \"Midtown Edmondson\", \"Sandtown-Winchester\", \"Milton - Montford\", \"Greenmount West\", \"Harlem Park\", \"East Baltimore Midway\", \"Penn North\", \"Lexington\", \"Madison - Eastend\", \"Darley Park\", \"Cherry Hill\", \"Bentalou-Smallwood\", \"Upton\", \"Gay Street\", \"Mosher\", \"Broadway East\", \"Perkins Homes\", \"Butchers Hill\", \"Langston Hughes\", \"Oliver\", \"Shipley Hill\", \"McCulloh Homes\", \"Barclay\", \"Pleasant View Gardens\"], \"xaxis\": \"x\", \"y\": [0.0098, 0.0108, 0.0166, 0.0179, 0.0251, 0.0437, 0.0585, 0.0933, 0.1457, 0.14645, 0.1467, 0.1627, 0.1646, 0.1781, 0.19, 0.1974, 0.1998, 0.2309, 0.2388, 0.2398, 0.2416, 0.2433, 0.2478, 0.25445, 0.255, 0.2557, 0.2622, 0.28315, 0.2863, 0.2884, 0.2916, 0.30085, 0.3029, 0.3043, 0.30565, 0.3063, 0.3072, 0.3092, 0.3131, 0.3219666666666667, 0.3314, 0.339375, 0.34245, 0.3452, 0.35600000000000004, 0.3614, 0.3615, 0.3626, 0.3689, 0.3773, 0.38715, 0.3882, 0.3905, 0.4026666666666667, 0.40432500000000005, 0.4055, 0.4082666666666666, 0.4087, 0.4094, 0.4104, 0.41093999999999997, 0.4118, 0.4142, 0.4193, 0.4242, 0.4261, 0.4323, 0.4393, 0.4402, 0.44495, 0.4479, 0.4511, 0.453, 0.4534, 0.4556, 0.4597, 0.46055, 0.4631, 0.4642, 0.4681, 0.4686, 0.4733, 0.4737, 0.47404999999999997, 0.48, 0.4871, 0.4878, 0.491, 0.4938, 0.4956, 0.5033, 0.5043, 0.5046, 0.5111, 0.5173, 0.5186, 0.5213, 0.5253, 0.52675, 0.5268, 0.528, 0.5324, 0.5361, 0.5401, 0.5413, 0.544, 0.5444, 0.5486000000000001, 0.5491, 0.5496, 0.5512, 0.5517, 0.5539999999999999, 0.55425, 0.5545, 0.5548, 0.5579999999999999, 0.5598, 0.5629500000000001, 0.5644, 0.5654, 0.57378, 0.5743, 0.5857, 0.5966, 0.5971, 0.5981, 0.6074, 0.6273, 0.6596], \"yaxis\": \"y\"}],\n",
              "                        {\"barmode\": \"relative\", \"legend\": {\"tracegroupgap\": 0}, \"template\": {\"data\": {\"bar\": [{\"error_x\": {\"color\": \"#2a3f5f\"}, \"error_y\": {\"color\": \"#2a3f5f\"}, \"marker\": {\"line\": {\"color\": \"#E5ECF6\", \"width\": 0.5}}, \"type\": \"bar\"}], \"barpolar\": [{\"marker\": {\"line\": {\"color\": \"#E5ECF6\", \"width\": 0.5}}, \"type\": \"barpolar\"}], \"carpet\": [{\"aaxis\": {\"endlinecolor\": \"#2a3f5f\", \"gridcolor\": \"white\", \"linecolor\": \"white\", \"minorgridcolor\": \"white\", \"startlinecolor\": \"#2a3f5f\"}, \"baxis\": {\"endlinecolor\": \"#2a3f5f\", \"gridcolor\": \"white\", \"linecolor\": \"white\", \"minorgridcolor\": \"white\", \"startlinecolor\": \"#2a3f5f\"}, \"type\": \"carpet\"}], \"choropleth\": [{\"colorbar\": {\"outlinewidth\": 0, \"ticks\": \"\"}, \"type\": \"choropleth\"}], \"contour\": [{\"colorbar\": {\"outlinewidth\": 0, \"ticks\": \"\"}, \"colorscale\": [[0.0, \"#0d0887\"], [0.1111111111111111, \"#46039f\"], [0.2222222222222222, \"#7201a8\"], [0.3333333333333333, \"#9c179e\"], [0.4444444444444444, \"#bd3786\"], [0.5555555555555556, \"#d8576b\"], [0.6666666666666666, \"#ed7953\"], [0.7777777777777778, \"#fb9f3a\"], [0.8888888888888888, \"#fdca26\"], [1.0, \"#f0f921\"]], \"type\": \"contour\"}], \"contourcarpet\": [{\"colorbar\": {\"outlinewidth\": 0, \"ticks\": \"\"}, \"type\": \"contourcarpet\"}], \"heatmap\": [{\"colorbar\": {\"outlinewidth\": 0, \"ticks\": \"\"}, \"colorscale\": [[0.0, \"#0d0887\"], [0.1111111111111111, \"#46039f\"], [0.2222222222222222, \"#7201a8\"], [0.3333333333333333, \"#9c179e\"], [0.4444444444444444, \"#bd3786\"], [0.5555555555555556, \"#d8576b\"], [0.6666666666666666, \"#ed7953\"], [0.7777777777777778, \"#fb9f3a\"], [0.8888888888888888, \"#fdca26\"], [1.0, \"#f0f921\"]], \"type\": \"heatmap\"}], \"heatmapgl\": [{\"colorbar\": {\"outlinewidth\": 0, \"ticks\": \"\"}, \"colorscale\": [[0.0, \"#0d0887\"], [0.1111111111111111, \"#46039f\"], [0.2222222222222222, \"#7201a8\"], [0.3333333333333333, \"#9c179e\"], [0.4444444444444444, \"#bd3786\"], [0.5555555555555556, \"#d8576b\"], [0.6666666666666666, \"#ed7953\"], [0.7777777777777778, \"#fb9f3a\"], [0.8888888888888888, \"#fdca26\"], [1.0, \"#f0f921\"]], \"type\": \"heatmapgl\"}], \"histogram\": [{\"marker\": {\"colorbar\": {\"outlinewidth\": 0, \"ticks\": \"\"}}, \"type\": \"histogram\"}], \"histogram2d\": [{\"colorbar\": {\"outlinewidth\": 0, \"ticks\": \"\"}, \"colorscale\": [[0.0, \"#0d0887\"], [0.1111111111111111, \"#46039f\"], [0.2222222222222222, \"#7201a8\"], [0.3333333333333333, \"#9c179e\"], [0.4444444444444444, \"#bd3786\"], [0.5555555555555556, \"#d8576b\"], [0.6666666666666666, \"#ed7953\"], [0.7777777777777778, \"#fb9f3a\"], [0.8888888888888888, \"#fdca26\"], [1.0, \"#f0f921\"]], \"type\": \"histogram2d\"}], \"histogram2dcontour\": [{\"colorbar\": {\"outlinewidth\": 0, \"ticks\": \"\"}, \"colorscale\": [[0.0, \"#0d0887\"], [0.1111111111111111, \"#46039f\"], [0.2222222222222222, \"#7201a8\"], [0.3333333333333333, \"#9c179e\"], [0.4444444444444444, \"#bd3786\"], [0.5555555555555556, \"#d8576b\"], [0.6666666666666666, \"#ed7953\"], [0.7777777777777778, \"#fb9f3a\"], [0.8888888888888888, \"#fdca26\"], [1.0, \"#f0f921\"]], \"type\": \"histogram2dcontour\"}], \"mesh3d\": [{\"colorbar\": {\"outlinewidth\": 0, \"ticks\": \"\"}, \"type\": \"mesh3d\"}], \"parcoords\": [{\"line\": {\"colorbar\": {\"outlinewidth\": 0, \"ticks\": \"\"}}, \"type\": \"parcoords\"}], \"pie\": [{\"automargin\": true, \"type\": \"pie\"}], \"scatter\": [{\"marker\": {\"colorbar\": {\"outlinewidth\": 0, \"ticks\": \"\"}}, \"type\": \"scatter\"}], \"scatter3d\": [{\"line\": {\"colorbar\": {\"outlinewidth\": 0, \"ticks\": \"\"}}, \"marker\": {\"colorbar\": {\"outlinewidth\": 0, \"ticks\": \"\"}}, \"type\": \"scatter3d\"}], \"scattercarpet\": [{\"marker\": {\"colorbar\": {\"outlinewidth\": 0, \"ticks\": \"\"}}, \"type\": \"scattercarpet\"}], \"scattergeo\": [{\"marker\": {\"colorbar\": {\"outlinewidth\": 0, \"ticks\": \"\"}}, \"type\": \"scattergeo\"}], \"scattergl\": [{\"marker\": {\"colorbar\": {\"outlinewidth\": 0, \"ticks\": \"\"}}, \"type\": \"scattergl\"}], \"scattermapbox\": [{\"marker\": {\"colorbar\": {\"outlinewidth\": 0, \"ticks\": \"\"}}, \"type\": \"scattermapbox\"}], \"scatterpolar\": [{\"marker\": {\"colorbar\": {\"outlinewidth\": 0, \"ticks\": \"\"}}, \"type\": \"scatterpolar\"}], \"scatterpolargl\": [{\"marker\": {\"colorbar\": {\"outlinewidth\": 0, \"ticks\": \"\"}}, \"type\": \"scatterpolargl\"}], \"scatterternary\": [{\"marker\": {\"colorbar\": {\"outlinewidth\": 0, \"ticks\": \"\"}}, \"type\": \"scatterternary\"}], \"surface\": [{\"colorbar\": {\"outlinewidth\": 0, \"ticks\": \"\"}, \"colorscale\": [[0.0, \"#0d0887\"], [0.1111111111111111, \"#46039f\"], [0.2222222222222222, \"#7201a8\"], [0.3333333333333333, \"#9c179e\"], [0.4444444444444444, \"#bd3786\"], [0.5555555555555556, \"#d8576b\"], [0.6666666666666666, \"#ed7953\"], [0.7777777777777778, \"#fb9f3a\"], [0.8888888888888888, \"#fdca26\"], [1.0, \"#f0f921\"]], \"type\": \"surface\"}], \"table\": [{\"cells\": {\"fill\": {\"color\": \"#EBF0F8\"}, \"line\": {\"color\": \"white\"}}, \"header\": {\"fill\": {\"color\": \"#C8D4E3\"}, \"line\": {\"color\": \"white\"}}, \"type\": \"table\"}]}, \"layout\": {\"annotationdefaults\": {\"arrowcolor\": \"#2a3f5f\", \"arrowhead\": 0, \"arrowwidth\": 1}, \"coloraxis\": {\"colorbar\": {\"outlinewidth\": 0, \"ticks\": \"\"}}, \"colorscale\": {\"diverging\": [[0, \"#8e0152\"], [0.1, \"#c51b7d\"], [0.2, \"#de77ae\"], [0.3, \"#f1b6da\"], [0.4, \"#fde0ef\"], [0.5, \"#f7f7f7\"], [0.6, \"#e6f5d0\"], [0.7, \"#b8e186\"], [0.8, \"#7fbc41\"], [0.9, \"#4d9221\"], [1, \"#276419\"]], \"sequential\": [[0.0, \"#0d0887\"], [0.1111111111111111, \"#46039f\"], [0.2222222222222222, \"#7201a8\"], [0.3333333333333333, \"#9c179e\"], [0.4444444444444444, \"#bd3786\"], [0.5555555555555556, \"#d8576b\"], [0.6666666666666666, \"#ed7953\"], [0.7777777777777778, \"#fb9f3a\"], [0.8888888888888888, \"#fdca26\"], [1.0, \"#f0f921\"]], \"sequentialminus\": [[0.0, \"#0d0887\"], [0.1111111111111111, \"#46039f\"], [0.2222222222222222, \"#7201a8\"], [0.3333333333333333, \"#9c179e\"], [0.4444444444444444, \"#bd3786\"], [0.5555555555555556, \"#d8576b\"], [0.6666666666666666, \"#ed7953\"], [0.7777777777777778, \"#fb9f3a\"], [0.8888888888888888, \"#fdca26\"], [1.0, \"#f0f921\"]]}, \"colorway\": [\"#636efa\", \"#EF553B\", \"#00cc96\", \"#ab63fa\", \"#FFA15A\", \"#19d3f3\", \"#FF6692\", \"#B6E880\", \"#FF97FF\", \"#FECB52\"], \"font\": {\"color\": \"#2a3f5f\"}, \"geo\": {\"bgcolor\": \"white\", \"lakecolor\": \"white\", \"landcolor\": \"#E5ECF6\", \"showlakes\": true, \"showland\": true, \"subunitcolor\": \"white\"}, \"hoverlabel\": {\"align\": \"left\"}, \"hovermode\": \"closest\", \"mapbox\": {\"style\": \"light\"}, \"paper_bgcolor\": \"white\", \"plot_bgcolor\": \"#E5ECF6\", \"polar\": {\"angularaxis\": {\"gridcolor\": \"white\", \"linecolor\": \"white\", \"ticks\": \"\"}, \"bgcolor\": \"#E5ECF6\", \"radialaxis\": {\"gridcolor\": \"white\", \"linecolor\": \"white\", \"ticks\": \"\"}}, \"scene\": {\"xaxis\": {\"backgroundcolor\": \"#E5ECF6\", \"gridcolor\": \"white\", \"gridwidth\": 2, \"linecolor\": \"white\", \"showbackground\": true, \"ticks\": \"\", \"zerolinecolor\": \"white\"}, \"yaxis\": {\"backgroundcolor\": \"#E5ECF6\", \"gridcolor\": \"white\", \"gridwidth\": 2, \"linecolor\": \"white\", \"showbackground\": true, \"ticks\": \"\", \"zerolinecolor\": \"white\"}, \"zaxis\": {\"backgroundcolor\": \"#E5ECF6\", \"gridcolor\": \"white\", \"gridwidth\": 2, \"linecolor\": \"white\", \"showbackground\": true, \"ticks\": \"\", \"zerolinecolor\": \"white\"}}, \"shapedefaults\": {\"line\": {\"color\": \"#2a3f5f\"}}, \"ternary\": {\"aaxis\": {\"gridcolor\": \"white\", \"linecolor\": \"white\", \"ticks\": \"\"}, \"baxis\": {\"gridcolor\": \"white\", \"linecolor\": \"white\", \"ticks\": \"\"}, \"bgcolor\": \"#E5ECF6\", \"caxis\": {\"gridcolor\": \"white\", \"linecolor\": \"white\", \"ticks\": \"\"}}, \"title\": {\"x\": 0.05}, \"xaxis\": {\"automargin\": true, \"gridcolor\": \"white\", \"linecolor\": \"white\", \"ticks\": \"\", \"title\": {\"standoff\": 15}, \"zerolinecolor\": \"white\", \"zerolinewidth\": 2}, \"yaxis\": {\"automargin\": true, \"gridcolor\": \"white\", \"linecolor\": \"white\", \"ticks\": \"\", \"title\": {\"standoff\": 15}, \"zerolinecolor\": \"white\", \"zerolinewidth\": 2}}}, \"title\": {\"text\": \"Teenage Birth Rates in Baltimore City by All Income\"}, \"xaxis\": {\"anchor\": \"y\", \"domain\": [0.0, 1.0], \"title\": {\"text\": \"Neighborhood\"}}, \"yaxis\": {\"anchor\": \"x\", \"domain\": [0.0, 1.0], \"title\": {\"text\": \"All\"}}},\n",
              "                        {\"responsive\": true}\n",
              "                    ).then(function(){\n",
              "                            \n",
              "var gd = document.getElementById('edc7d220-1304-4e8a-983c-fefe451b777d');\n",
              "var x = new MutationObserver(function (mutations, observer) {{\n",
              "        var display = window.getComputedStyle(gd).display;\n",
              "        if (!display || display === 'none') {{\n",
              "            console.log([gd, 'removed!']);\n",
              "            Plotly.purge(gd);\n",
              "            observer.disconnect();\n",
              "        }}\n",
              "}});\n",
              "\n",
              "// Listen for the removal of the full notebook cells\n",
              "var notebookContainer = gd.closest('#notebook-container');\n",
              "if (notebookContainer) {{\n",
              "    x.observe(notebookContainer, {childList: true});\n",
              "}}\n",
              "\n",
              "// Listen for the clearing of the current output cell\n",
              "var outputEl = gd.closest('.output');\n",
              "if (outputEl) {{\n",
              "    x.observe(outputEl, {childList: true});\n",
              "}}\n",
              "\n",
              "                        })\n",
              "                };\n",
              "                \n",
              "            </script>\n",
              "        </div>\n",
              "</body>\n",
              "</html>"
            ]
          },
          "metadata": {
            "tags": []
          }
        }
      ]
    },
    {
      "cell_type": "code",
      "metadata": {
        "id": "P44oK9xur0Qe"
      },
      "source": [
        "# bar graph for teenage birth rates in nyc all income \n",
        "bar_nycallteenagebirthrate = px.bar(pvmodified_df_nyc_teenagebirths,x= \"Neighborhood\", y = \"All\", title = \"Teenage Birth Rates in New York City by All Income\")"
      ],
      "execution_count": 148,
      "outputs": []
    },
    {
      "cell_type": "code",
      "metadata": {
        "colab": {
          "base_uri": "https://localhost:8080/",
          "height": 542
        },
        "id": "Xws0RdMmr-UL",
        "outputId": "a40a7d62-7121-40a9-f271-cff4754c74ec"
      },
      "source": [
        "# data visualization \n",
        "bar_nycallteenagebirthrate"
      ],
      "execution_count": 149,
      "outputs": [
        {
          "output_type": "display_data",
          "data": {
            "text/html": [
              "<html>\n",
              "<head><meta charset=\"utf-8\" /></head>\n",
              "<body>\n",
              "    <div>\n",
              "            <script src=\"https://cdnjs.cloudflare.com/ajax/libs/mathjax/2.7.5/MathJax.js?config=TeX-AMS-MML_SVG\"></script><script type=\"text/javascript\">if (window.MathJax) {MathJax.Hub.Config({SVG: {font: \"STIX-Web\"}});}</script>\n",
              "                <script type=\"text/javascript\">window.PlotlyConfig = {MathJaxConfig: 'local'};</script>\n",
              "        <script src=\"https://cdn.plot.ly/plotly-latest.min.js\"></script>    \n",
              "            <div id=\"23852362-88cc-4a0c-9919-746b550a6845\" class=\"plotly-graph-div\" style=\"height:525px; width:100%;\"></div>\n",
              "            <script type=\"text/javascript\">\n",
              "                \n",
              "                    window.PLOTLYENV=window.PLOTLYENV || {};\n",
              "                    \n",
              "                if (document.getElementById(\"23852362-88cc-4a0c-9919-746b550a6845\")) {\n",
              "                    Plotly.newPlot(\n",
              "                        '23852362-88cc-4a0c-9919-746b550a6845',\n",
              "                        [{\"alignmentgroup\": \"True\", \"hoverlabel\": {\"namelength\": 0}, \"hovertemplate\": \"Neighborhood=%{x}<br>All=%{y}\", \"legendgroup\": \"\", \"marker\": {\"color\": \"#636efa\"}, \"name\": \"\", \"offsetgroup\": \"\", \"orientation\": \"v\", \"showlegend\": false, \"textposition\": \"auto\", \"type\": \"bar\", \"x\": [\"Chinatown\", \"Yorkville\", \"Lenox Hill\", \"Midtown East\", \"Upper East Side\", \"Kips Bay\", \"Gramercy Park\", \"Lower East Side\", \"Midtown\", \"Lincoln Square\", \"Lower Manhattan\", \"Roosevelt Island\", \"Bloomingdale\", \"Upper West Side\", \"Bowery\", \"East Village\", \"Hell's Kitchen\", \"Hudson Heights\", \"Inwood\", \"Alphabet City\", \"Fort George\", \"Upper Manhattan\", \"West Bronx\", \"East Harlem\", \"Harlem\"], \"xaxis\": \"x\", \"y\": [0.016666666666666666, 0.022000000000000002, 0.023783333333333326, 0.0247, 0.032377777777777776, 0.0329, 0.041133333333333334, 0.0621, 0.0625395348837209, 0.06651428571428572, 0.08842765957446809, 0.0961, 0.10145, 0.10739999999999998, 0.11579999999999999, 0.125, 0.1444285714285714, 0.1762, 0.20636000000000002, 0.20803333333333332, 0.209675, 0.2436939393939394, 0.2554, 0.31408888888888886, 0.33019333333333345], \"yaxis\": \"y\"}],\n",
              "                        {\"barmode\": \"relative\", \"legend\": {\"tracegroupgap\": 0}, \"template\": {\"data\": {\"bar\": [{\"error_x\": {\"color\": \"#2a3f5f\"}, \"error_y\": {\"color\": \"#2a3f5f\"}, \"marker\": {\"line\": {\"color\": \"#E5ECF6\", \"width\": 0.5}}, \"type\": \"bar\"}], \"barpolar\": [{\"marker\": {\"line\": {\"color\": \"#E5ECF6\", \"width\": 0.5}}, \"type\": \"barpolar\"}], \"carpet\": [{\"aaxis\": {\"endlinecolor\": \"#2a3f5f\", \"gridcolor\": \"white\", \"linecolor\": \"white\", \"minorgridcolor\": \"white\", \"startlinecolor\": \"#2a3f5f\"}, \"baxis\": {\"endlinecolor\": \"#2a3f5f\", \"gridcolor\": \"white\", \"linecolor\": \"white\", \"minorgridcolor\": \"white\", \"startlinecolor\": \"#2a3f5f\"}, \"type\": \"carpet\"}], \"choropleth\": [{\"colorbar\": {\"outlinewidth\": 0, \"ticks\": \"\"}, \"type\": \"choropleth\"}], \"contour\": [{\"colorbar\": {\"outlinewidth\": 0, \"ticks\": \"\"}, \"colorscale\": [[0.0, \"#0d0887\"], [0.1111111111111111, \"#46039f\"], [0.2222222222222222, \"#7201a8\"], [0.3333333333333333, \"#9c179e\"], [0.4444444444444444, \"#bd3786\"], [0.5555555555555556, \"#d8576b\"], [0.6666666666666666, \"#ed7953\"], [0.7777777777777778, \"#fb9f3a\"], [0.8888888888888888, \"#fdca26\"], [1.0, \"#f0f921\"]], \"type\": \"contour\"}], \"contourcarpet\": [{\"colorbar\": {\"outlinewidth\": 0, \"ticks\": \"\"}, \"type\": \"contourcarpet\"}], \"heatmap\": [{\"colorbar\": {\"outlinewidth\": 0, \"ticks\": \"\"}, \"colorscale\": [[0.0, \"#0d0887\"], [0.1111111111111111, \"#46039f\"], [0.2222222222222222, \"#7201a8\"], [0.3333333333333333, \"#9c179e\"], [0.4444444444444444, \"#bd3786\"], [0.5555555555555556, \"#d8576b\"], [0.6666666666666666, \"#ed7953\"], [0.7777777777777778, \"#fb9f3a\"], [0.8888888888888888, \"#fdca26\"], [1.0, \"#f0f921\"]], \"type\": \"heatmap\"}], \"heatmapgl\": [{\"colorbar\": {\"outlinewidth\": 0, \"ticks\": \"\"}, \"colorscale\": [[0.0, \"#0d0887\"], [0.1111111111111111, \"#46039f\"], [0.2222222222222222, \"#7201a8\"], [0.3333333333333333, \"#9c179e\"], [0.4444444444444444, \"#bd3786\"], [0.5555555555555556, \"#d8576b\"], [0.6666666666666666, \"#ed7953\"], [0.7777777777777778, \"#fb9f3a\"], [0.8888888888888888, \"#fdca26\"], [1.0, \"#f0f921\"]], \"type\": \"heatmapgl\"}], \"histogram\": [{\"marker\": {\"colorbar\": {\"outlinewidth\": 0, \"ticks\": \"\"}}, \"type\": \"histogram\"}], \"histogram2d\": [{\"colorbar\": {\"outlinewidth\": 0, \"ticks\": \"\"}, \"colorscale\": [[0.0, \"#0d0887\"], [0.1111111111111111, \"#46039f\"], [0.2222222222222222, \"#7201a8\"], [0.3333333333333333, \"#9c179e\"], [0.4444444444444444, \"#bd3786\"], [0.5555555555555556, \"#d8576b\"], [0.6666666666666666, \"#ed7953\"], [0.7777777777777778, \"#fb9f3a\"], [0.8888888888888888, \"#fdca26\"], [1.0, \"#f0f921\"]], \"type\": \"histogram2d\"}], \"histogram2dcontour\": [{\"colorbar\": {\"outlinewidth\": 0, \"ticks\": \"\"}, \"colorscale\": [[0.0, \"#0d0887\"], [0.1111111111111111, \"#46039f\"], [0.2222222222222222, \"#7201a8\"], [0.3333333333333333, \"#9c179e\"], [0.4444444444444444, \"#bd3786\"], [0.5555555555555556, \"#d8576b\"], [0.6666666666666666, \"#ed7953\"], [0.7777777777777778, \"#fb9f3a\"], [0.8888888888888888, \"#fdca26\"], [1.0, \"#f0f921\"]], \"type\": \"histogram2dcontour\"}], \"mesh3d\": [{\"colorbar\": {\"outlinewidth\": 0, \"ticks\": \"\"}, \"type\": \"mesh3d\"}], \"parcoords\": [{\"line\": {\"colorbar\": {\"outlinewidth\": 0, \"ticks\": \"\"}}, \"type\": \"parcoords\"}], \"pie\": [{\"automargin\": true, \"type\": \"pie\"}], \"scatter\": [{\"marker\": {\"colorbar\": {\"outlinewidth\": 0, \"ticks\": \"\"}}, \"type\": \"scatter\"}], \"scatter3d\": [{\"line\": {\"colorbar\": {\"outlinewidth\": 0, \"ticks\": \"\"}}, \"marker\": {\"colorbar\": {\"outlinewidth\": 0, \"ticks\": \"\"}}, \"type\": \"scatter3d\"}], \"scattercarpet\": [{\"marker\": {\"colorbar\": {\"outlinewidth\": 0, \"ticks\": \"\"}}, \"type\": \"scattercarpet\"}], \"scattergeo\": [{\"marker\": {\"colorbar\": {\"outlinewidth\": 0, \"ticks\": \"\"}}, \"type\": \"scattergeo\"}], \"scattergl\": [{\"marker\": {\"colorbar\": {\"outlinewidth\": 0, \"ticks\": \"\"}}, \"type\": \"scattergl\"}], \"scattermapbox\": [{\"marker\": {\"colorbar\": {\"outlinewidth\": 0, \"ticks\": \"\"}}, \"type\": \"scattermapbox\"}], \"scatterpolar\": [{\"marker\": {\"colorbar\": {\"outlinewidth\": 0, \"ticks\": \"\"}}, \"type\": \"scatterpolar\"}], \"scatterpolargl\": [{\"marker\": {\"colorbar\": {\"outlinewidth\": 0, \"ticks\": \"\"}}, \"type\": \"scatterpolargl\"}], \"scatterternary\": [{\"marker\": {\"colorbar\": {\"outlinewidth\": 0, \"ticks\": \"\"}}, \"type\": \"scatterternary\"}], \"surface\": [{\"colorbar\": {\"outlinewidth\": 0, \"ticks\": \"\"}, \"colorscale\": [[0.0, \"#0d0887\"], [0.1111111111111111, \"#46039f\"], [0.2222222222222222, \"#7201a8\"], [0.3333333333333333, \"#9c179e\"], [0.4444444444444444, \"#bd3786\"], [0.5555555555555556, \"#d8576b\"], [0.6666666666666666, \"#ed7953\"], [0.7777777777777778, \"#fb9f3a\"], [0.8888888888888888, \"#fdca26\"], [1.0, \"#f0f921\"]], \"type\": \"surface\"}], \"table\": [{\"cells\": {\"fill\": {\"color\": \"#EBF0F8\"}, \"line\": {\"color\": \"white\"}}, \"header\": {\"fill\": {\"color\": \"#C8D4E3\"}, \"line\": {\"color\": \"white\"}}, \"type\": \"table\"}]}, \"layout\": {\"annotationdefaults\": {\"arrowcolor\": \"#2a3f5f\", \"arrowhead\": 0, \"arrowwidth\": 1}, \"coloraxis\": {\"colorbar\": {\"outlinewidth\": 0, \"ticks\": \"\"}}, \"colorscale\": {\"diverging\": [[0, \"#8e0152\"], [0.1, \"#c51b7d\"], [0.2, \"#de77ae\"], [0.3, \"#f1b6da\"], [0.4, \"#fde0ef\"], [0.5, \"#f7f7f7\"], [0.6, \"#e6f5d0\"], [0.7, \"#b8e186\"], [0.8, \"#7fbc41\"], [0.9, \"#4d9221\"], [1, \"#276419\"]], \"sequential\": [[0.0, \"#0d0887\"], [0.1111111111111111, \"#46039f\"], [0.2222222222222222, \"#7201a8\"], [0.3333333333333333, \"#9c179e\"], [0.4444444444444444, \"#bd3786\"], [0.5555555555555556, \"#d8576b\"], [0.6666666666666666, \"#ed7953\"], [0.7777777777777778, \"#fb9f3a\"], [0.8888888888888888, \"#fdca26\"], [1.0, \"#f0f921\"]], \"sequentialminus\": [[0.0, \"#0d0887\"], [0.1111111111111111, \"#46039f\"], [0.2222222222222222, \"#7201a8\"], [0.3333333333333333, \"#9c179e\"], [0.4444444444444444, \"#bd3786\"], [0.5555555555555556, \"#d8576b\"], [0.6666666666666666, \"#ed7953\"], [0.7777777777777778, \"#fb9f3a\"], [0.8888888888888888, \"#fdca26\"], [1.0, \"#f0f921\"]]}, \"colorway\": [\"#636efa\", \"#EF553B\", \"#00cc96\", \"#ab63fa\", \"#FFA15A\", \"#19d3f3\", \"#FF6692\", \"#B6E880\", \"#FF97FF\", \"#FECB52\"], \"font\": {\"color\": \"#2a3f5f\"}, \"geo\": {\"bgcolor\": \"white\", \"lakecolor\": \"white\", \"landcolor\": \"#E5ECF6\", \"showlakes\": true, \"showland\": true, \"subunitcolor\": \"white\"}, \"hoverlabel\": {\"align\": \"left\"}, \"hovermode\": \"closest\", \"mapbox\": {\"style\": \"light\"}, \"paper_bgcolor\": \"white\", \"plot_bgcolor\": \"#E5ECF6\", \"polar\": {\"angularaxis\": {\"gridcolor\": \"white\", \"linecolor\": \"white\", \"ticks\": \"\"}, \"bgcolor\": \"#E5ECF6\", \"radialaxis\": {\"gridcolor\": \"white\", \"linecolor\": \"white\", \"ticks\": \"\"}}, \"scene\": {\"xaxis\": {\"backgroundcolor\": \"#E5ECF6\", \"gridcolor\": \"white\", \"gridwidth\": 2, \"linecolor\": \"white\", \"showbackground\": true, \"ticks\": \"\", \"zerolinecolor\": \"white\"}, \"yaxis\": {\"backgroundcolor\": \"#E5ECF6\", \"gridcolor\": \"white\", \"gridwidth\": 2, \"linecolor\": \"white\", \"showbackground\": true, \"ticks\": \"\", \"zerolinecolor\": \"white\"}, \"zaxis\": {\"backgroundcolor\": \"#E5ECF6\", \"gridcolor\": \"white\", \"gridwidth\": 2, \"linecolor\": \"white\", \"showbackground\": true, \"ticks\": \"\", \"zerolinecolor\": \"white\"}}, \"shapedefaults\": {\"line\": {\"color\": \"#2a3f5f\"}}, \"ternary\": {\"aaxis\": {\"gridcolor\": \"white\", \"linecolor\": \"white\", \"ticks\": \"\"}, \"baxis\": {\"gridcolor\": \"white\", \"linecolor\": \"white\", \"ticks\": \"\"}, \"bgcolor\": \"#E5ECF6\", \"caxis\": {\"gridcolor\": \"white\", \"linecolor\": \"white\", \"ticks\": \"\"}}, \"title\": {\"x\": 0.05}, \"xaxis\": {\"automargin\": true, \"gridcolor\": \"white\", \"linecolor\": \"white\", \"ticks\": \"\", \"title\": {\"standoff\": 15}, \"zerolinecolor\": \"white\", \"zerolinewidth\": 2}, \"yaxis\": {\"automargin\": true, \"gridcolor\": \"white\", \"linecolor\": \"white\", \"ticks\": \"\", \"title\": {\"standoff\": 15}, \"zerolinecolor\": \"white\", \"zerolinewidth\": 2}}}, \"title\": {\"text\": \"Teenage Birth Rates in New York City by All Income\"}, \"xaxis\": {\"anchor\": \"y\", \"domain\": [0.0, 1.0], \"title\": {\"text\": \"Neighborhood\"}}, \"yaxis\": {\"anchor\": \"x\", \"domain\": [0.0, 1.0], \"title\": {\"text\": \"All\"}}},\n",
              "                        {\"responsive\": true}\n",
              "                    ).then(function(){\n",
              "                            \n",
              "var gd = document.getElementById('23852362-88cc-4a0c-9919-746b550a6845');\n",
              "var x = new MutationObserver(function (mutations, observer) {{\n",
              "        var display = window.getComputedStyle(gd).display;\n",
              "        if (!display || display === 'none') {{\n",
              "            console.log([gd, 'removed!']);\n",
              "            Plotly.purge(gd);\n",
              "            observer.disconnect();\n",
              "        }}\n",
              "}});\n",
              "\n",
              "// Listen for the removal of the full notebook cells\n",
              "var notebookContainer = gd.closest('#notebook-container');\n",
              "if (notebookContainer) {{\n",
              "    x.observe(notebookContainer, {childList: true});\n",
              "}}\n",
              "\n",
              "// Listen for the clearing of the current output cell\n",
              "var outputEl = gd.closest('.output');\n",
              "if (outputEl) {{\n",
              "    x.observe(outputEl, {childList: true});\n",
              "}}\n",
              "\n",
              "                        })\n",
              "                };\n",
              "                \n",
              "            </script>\n",
              "        </div>\n",
              "</body>\n",
              "</html>"
            ]
          },
          "metadata": {
            "tags": []
          }
        }
      ]
    },
    {
      "cell_type": "code",
      "metadata": {
        "id": "_VraO3YasiUn"
      },
      "source": [
        "# bar graph for teenage birth rates in baltimore low income \n",
        "bar_baltilowteenagebirthrate = px.bar(pvmodified_df_balti_teenagebirths,x= \"Neighborhood\", y = \"Low\", title = \"Teenage Birth Rates in Baltimore City by Low Income\")"
      ],
      "execution_count": 151,
      "outputs": []
    },
    {
      "cell_type": "code",
      "metadata": {
        "colab": {
          "base_uri": "https://localhost:8080/",
          "height": 542
        },
        "id": "sMwy7fH6smhe",
        "outputId": "82e8f852-cca0-4c30-db5b-e9f3e00cc61f"
      },
      "source": [
        "# data visualization \n",
        "bar_baltilowteenagebirthrate"
      ],
      "execution_count": 152,
      "outputs": [
        {
          "output_type": "display_data",
          "data": {
            "text/html": [
              "<html>\n",
              "<head><meta charset=\"utf-8\" /></head>\n",
              "<body>\n",
              "    <div>\n",
              "            <script src=\"https://cdnjs.cloudflare.com/ajax/libs/mathjax/2.7.5/MathJax.js?config=TeX-AMS-MML_SVG\"></script><script type=\"text/javascript\">if (window.MathJax) {MathJax.Hub.Config({SVG: {font: \"STIX-Web\"}});}</script>\n",
              "                <script type=\"text/javascript\">window.PlotlyConfig = {MathJaxConfig: 'local'};</script>\n",
              "        <script src=\"https://cdn.plot.ly/plotly-latest.min.js\"></script>    \n",
              "            <div id=\"04b192e3-c52f-4619-bf3a-e5bbfebd6afd\" class=\"plotly-graph-div\" style=\"height:525px; width:100%;\"></div>\n",
              "            <script type=\"text/javascript\">\n",
              "                \n",
              "                    window.PLOTLYENV=window.PLOTLYENV || {};\n",
              "                    \n",
              "                if (document.getElementById(\"04b192e3-c52f-4619-bf3a-e5bbfebd6afd\")) {\n",
              "                    Plotly.newPlot(\n",
              "                        '04b192e3-c52f-4619-bf3a-e5bbfebd6afd',\n",
              "                        [{\"alignmentgroup\": \"True\", \"hoverlabel\": {\"namelength\": 0}, \"hovertemplate\": \"Neighborhood=%{x}<br>Low=%{y}\", \"legendgroup\": \"\", \"marker\": {\"color\": \"#636efa\"}, \"name\": \"\", \"offsetgroup\": \"\", \"orientation\": \"v\", \"showlegend\": false, \"textposition\": \"auto\", \"type\": \"bar\", \"x\": [\"Mount Washington\", \"Roland Park\", \"Tuscany - Canterbury\", \"Evergreen\", \"Homeland\", \"Cheswolde\", \"Cross Country\", \"Mid-Charles\", \"Radnor - Winston\", \"North Harford Road\", \"Fells Point\", \"Woodring\", \"Medfield\", \"Violetville\", \"Joseph Lee\", \"Fallstaff\", \"Riverside\", \"Fifteenth Street\", \"Lauraville\", \"Cold Springs\", \"Riverside Park\", \"Lake Walker\", \"Waltherson\", \"Canton\", \"Arcadia\", \"Locust Point\", \"Glenham-Belford\", \"Glen\", \"Westgate\", \"Armistead Gardens\", \"Medford - Broening\", \"Morrell Park\", \"Idlewood\", \"West Forest Park\", \"South Baltimore\", \"Upper Fells Point\", \"Woodberry\", \"Bolton Hill\", \"Hampden\", \"Harford - Echodale - Perring Parkway\", \"Cedmont\", \"Gwynn Oak\", \"Brooklyn\", \"Hillen\", \"Curtis Bay\", \"Perring Loch\", \"East Arlington\", \"Lakeland\", \"Loch Raven\", \"Mid-Govans\", \"Baltimore Highlands\", \"Reisterstown Station\", \"Ramblewood\", \"Ednor Gardens - Lakeside\", \"Frankford\", \"Rognel Heights\", \"Patterson Park\", \"Yale Heights\", \"Windsor Hills\", \"Cross Keys\", \"Downtown\", \"Pratt Monroe\", \"Beechfield\", \"Remington\", \"Rosemont\", \"Hollins Market\", \"Parkside\", \"Hanlon Longwood\", \"New Northwood\", \"Belair - Edison\", \"Dorchester\", \"Mill Hill\", \"Poppleton\", \"Bridgeview-Greenlawn\", \"Irvington\", \"Walbrook\", \"Pigtown\", \"Park Circle\", \"Mount Clare\", \"Claremont - Freedom\", \"Woodbrook\", \"Little Italy\", \"Allendale\", \"Edmondson\", \"Winston - Govans\", \"Central Park Heights\", \"Saint Joseph's\", \"Coppin Heights\", \"Reservoir Hill\", \"Garwyn Oaks\", \"Edgecomb\", \"Mondawmin\", \"Arlington\", \"O'Donnell Heights\", \"Old Goucher\", \"Druid Heights\", \"NW Community Action\", \"Cedonia\", \"Coldstream - Homestead - Montebello\", \"Westport\", \"Better Waverly\", \"Harwood\", \"Franklin Square\", \"Berea\", \"Burleith-Leighton\", \"Johnson Square\", \"Midtown Edmondson\", \"Sandtown-Winchester\", \"Milton - Montford\", \"Greenmount West\", \"Harlem Park\", \"East Baltimore Midway\", \"Penn North\", \"Lexington\", \"Madison - Eastend\", \"Darley Park\", \"Cherry Hill\", \"Bentalou-Smallwood\", \"Upton\", \"Gay Street\", \"Mosher\", \"Broadway East\", \"Perkins Homes\", \"Butchers Hill\", \"Langston Hughes\", \"Oliver\", \"Shipley Hill\", \"McCulloh Homes\", \"Barclay\", \"Pleasant View Gardens\"], \"xaxis\": \"x\", \"y\": [0.0699, 0.0828, 0.10800000000000001, 0.1474, 0.158, 0.1454, 0.1498, 0.6247, 0.3257, 0.21555, 0.1756, 0.2008, 0.2942, 0.2288, 0.2827, 0.3207, 0.36350000000000005, 0.2559, 0.29464999999999997, 0.3614, 0.4266, 0.4366, 0.3859, 0.373025, 0.4525, 0.2893, 0.3637, 0.41054999999999997, 0.457, 0.3273, 0.3888, 0.35614999999999997, 0.3453, 0.3845, 0.36150000000000004, 0.3351, 0.3991, 0.5274, 0.3718666666666666, 0.4138, 0.4931, 0.417525, 0.397725, 0.4748, 0.3857, 0.4558, 0.4196, 0.3823, 0.4136, 0.4394, 0.44335, 0.4498, 0.4494, 0.47090000000000004, 0.473275, 0.39899999999999997, 0.4673, 0.4824, 0.5064, null, 0.47648, 0.4267, 0.526, 0.4247, 0.444, 0.4478, 0.4712, 0.4882, 0.5028, 0.516375, 0.4941, 0.467, 0.4658, 0.4768, 0.4957, 0.4976, 0.47785, 0.4839, 0.4671, 0.4611, 0.5005, 0.5587, 0.4777, 0.4875, 0.5151, 0.5138499999999999, 0.4764, 0.5055, 0.5066, 0.5084, 0.5242, 0.5131, 0.532, 0.5031, 0.5383, 0.5239, 0.5246, 0.5795, 0.54925, 0.5409, 0.5596000000000001, 0.5379, 0.5289, 0.5744, 0.556, 0.5553, 0.5492, 0.5543499999999999, 0.5542, 0.5497, 0.5394, 0.5693, 0.5632, 0.5682499999999999, 0.5791, 0.5647, 0.5653333333333334, 0.557, 0.5566, 0.57, 0.5635, 0.57946, 0.5697, 0.5808, 0.6038, 0.5995, 0.5836, 0.5922, 0.6167, 0.638], \"yaxis\": \"y\"}],\n",
              "                        {\"barmode\": \"relative\", \"legend\": {\"tracegroupgap\": 0}, \"template\": {\"data\": {\"bar\": [{\"error_x\": {\"color\": \"#2a3f5f\"}, \"error_y\": {\"color\": \"#2a3f5f\"}, \"marker\": {\"line\": {\"color\": \"#E5ECF6\", \"width\": 0.5}}, \"type\": \"bar\"}], \"barpolar\": [{\"marker\": {\"line\": {\"color\": \"#E5ECF6\", \"width\": 0.5}}, \"type\": \"barpolar\"}], \"carpet\": [{\"aaxis\": {\"endlinecolor\": \"#2a3f5f\", \"gridcolor\": \"white\", \"linecolor\": \"white\", \"minorgridcolor\": \"white\", \"startlinecolor\": \"#2a3f5f\"}, \"baxis\": {\"endlinecolor\": \"#2a3f5f\", \"gridcolor\": \"white\", \"linecolor\": \"white\", \"minorgridcolor\": \"white\", \"startlinecolor\": \"#2a3f5f\"}, \"type\": \"carpet\"}], \"choropleth\": [{\"colorbar\": {\"outlinewidth\": 0, \"ticks\": \"\"}, \"type\": \"choropleth\"}], \"contour\": [{\"colorbar\": {\"outlinewidth\": 0, \"ticks\": \"\"}, \"colorscale\": [[0.0, \"#0d0887\"], [0.1111111111111111, \"#46039f\"], [0.2222222222222222, \"#7201a8\"], [0.3333333333333333, \"#9c179e\"], [0.4444444444444444, \"#bd3786\"], [0.5555555555555556, \"#d8576b\"], [0.6666666666666666, \"#ed7953\"], [0.7777777777777778, \"#fb9f3a\"], [0.8888888888888888, \"#fdca26\"], [1.0, \"#f0f921\"]], \"type\": \"contour\"}], \"contourcarpet\": [{\"colorbar\": {\"outlinewidth\": 0, \"ticks\": \"\"}, \"type\": \"contourcarpet\"}], \"heatmap\": [{\"colorbar\": {\"outlinewidth\": 0, \"ticks\": \"\"}, \"colorscale\": [[0.0, \"#0d0887\"], [0.1111111111111111, \"#46039f\"], [0.2222222222222222, \"#7201a8\"], [0.3333333333333333, \"#9c179e\"], [0.4444444444444444, \"#bd3786\"], [0.5555555555555556, \"#d8576b\"], [0.6666666666666666, \"#ed7953\"], [0.7777777777777778, \"#fb9f3a\"], [0.8888888888888888, \"#fdca26\"], [1.0, \"#f0f921\"]], \"type\": \"heatmap\"}], \"heatmapgl\": [{\"colorbar\": {\"outlinewidth\": 0, \"ticks\": \"\"}, \"colorscale\": [[0.0, \"#0d0887\"], [0.1111111111111111, \"#46039f\"], [0.2222222222222222, \"#7201a8\"], [0.3333333333333333, \"#9c179e\"], [0.4444444444444444, \"#bd3786\"], [0.5555555555555556, \"#d8576b\"], [0.6666666666666666, \"#ed7953\"], [0.7777777777777778, \"#fb9f3a\"], [0.8888888888888888, \"#fdca26\"], [1.0, \"#f0f921\"]], \"type\": \"heatmapgl\"}], \"histogram\": [{\"marker\": {\"colorbar\": {\"outlinewidth\": 0, \"ticks\": \"\"}}, \"type\": \"histogram\"}], \"histogram2d\": [{\"colorbar\": {\"outlinewidth\": 0, \"ticks\": \"\"}, \"colorscale\": [[0.0, \"#0d0887\"], [0.1111111111111111, \"#46039f\"], [0.2222222222222222, \"#7201a8\"], [0.3333333333333333, \"#9c179e\"], [0.4444444444444444, \"#bd3786\"], [0.5555555555555556, \"#d8576b\"], [0.6666666666666666, \"#ed7953\"], [0.7777777777777778, \"#fb9f3a\"], [0.8888888888888888, \"#fdca26\"], [1.0, \"#f0f921\"]], \"type\": \"histogram2d\"}], \"histogram2dcontour\": [{\"colorbar\": {\"outlinewidth\": 0, \"ticks\": \"\"}, \"colorscale\": [[0.0, \"#0d0887\"], [0.1111111111111111, \"#46039f\"], [0.2222222222222222, \"#7201a8\"], [0.3333333333333333, \"#9c179e\"], [0.4444444444444444, \"#bd3786\"], [0.5555555555555556, \"#d8576b\"], [0.6666666666666666, \"#ed7953\"], [0.7777777777777778, \"#fb9f3a\"], [0.8888888888888888, \"#fdca26\"], [1.0, \"#f0f921\"]], \"type\": \"histogram2dcontour\"}], \"mesh3d\": [{\"colorbar\": {\"outlinewidth\": 0, \"ticks\": \"\"}, \"type\": \"mesh3d\"}], \"parcoords\": [{\"line\": {\"colorbar\": {\"outlinewidth\": 0, \"ticks\": \"\"}}, \"type\": \"parcoords\"}], \"pie\": [{\"automargin\": true, \"type\": \"pie\"}], \"scatter\": [{\"marker\": {\"colorbar\": {\"outlinewidth\": 0, \"ticks\": \"\"}}, \"type\": \"scatter\"}], \"scatter3d\": [{\"line\": {\"colorbar\": {\"outlinewidth\": 0, \"ticks\": \"\"}}, \"marker\": {\"colorbar\": {\"outlinewidth\": 0, \"ticks\": \"\"}}, \"type\": \"scatter3d\"}], \"scattercarpet\": [{\"marker\": {\"colorbar\": {\"outlinewidth\": 0, \"ticks\": \"\"}}, \"type\": \"scattercarpet\"}], \"scattergeo\": [{\"marker\": {\"colorbar\": {\"outlinewidth\": 0, \"ticks\": \"\"}}, \"type\": \"scattergeo\"}], \"scattergl\": [{\"marker\": {\"colorbar\": {\"outlinewidth\": 0, \"ticks\": \"\"}}, \"type\": \"scattergl\"}], \"scattermapbox\": [{\"marker\": {\"colorbar\": {\"outlinewidth\": 0, \"ticks\": \"\"}}, \"type\": \"scattermapbox\"}], \"scatterpolar\": [{\"marker\": {\"colorbar\": {\"outlinewidth\": 0, \"ticks\": \"\"}}, \"type\": \"scatterpolar\"}], \"scatterpolargl\": [{\"marker\": {\"colorbar\": {\"outlinewidth\": 0, \"ticks\": \"\"}}, \"type\": \"scatterpolargl\"}], \"scatterternary\": [{\"marker\": {\"colorbar\": {\"outlinewidth\": 0, \"ticks\": \"\"}}, \"type\": \"scatterternary\"}], \"surface\": [{\"colorbar\": {\"outlinewidth\": 0, \"ticks\": \"\"}, \"colorscale\": [[0.0, \"#0d0887\"], [0.1111111111111111, \"#46039f\"], [0.2222222222222222, \"#7201a8\"], [0.3333333333333333, \"#9c179e\"], [0.4444444444444444, \"#bd3786\"], [0.5555555555555556, \"#d8576b\"], [0.6666666666666666, \"#ed7953\"], [0.7777777777777778, \"#fb9f3a\"], [0.8888888888888888, \"#fdca26\"], [1.0, \"#f0f921\"]], \"type\": \"surface\"}], \"table\": [{\"cells\": {\"fill\": {\"color\": \"#EBF0F8\"}, \"line\": {\"color\": \"white\"}}, \"header\": {\"fill\": {\"color\": \"#C8D4E3\"}, \"line\": {\"color\": \"white\"}}, \"type\": \"table\"}]}, \"layout\": {\"annotationdefaults\": {\"arrowcolor\": \"#2a3f5f\", \"arrowhead\": 0, \"arrowwidth\": 1}, \"coloraxis\": {\"colorbar\": {\"outlinewidth\": 0, \"ticks\": \"\"}}, \"colorscale\": {\"diverging\": [[0, \"#8e0152\"], [0.1, \"#c51b7d\"], [0.2, \"#de77ae\"], [0.3, \"#f1b6da\"], [0.4, \"#fde0ef\"], [0.5, \"#f7f7f7\"], [0.6, \"#e6f5d0\"], [0.7, \"#b8e186\"], [0.8, \"#7fbc41\"], [0.9, \"#4d9221\"], [1, \"#276419\"]], \"sequential\": [[0.0, \"#0d0887\"], [0.1111111111111111, \"#46039f\"], [0.2222222222222222, \"#7201a8\"], [0.3333333333333333, \"#9c179e\"], [0.4444444444444444, \"#bd3786\"], [0.5555555555555556, \"#d8576b\"], [0.6666666666666666, \"#ed7953\"], [0.7777777777777778, \"#fb9f3a\"], [0.8888888888888888, \"#fdca26\"], [1.0, \"#f0f921\"]], \"sequentialminus\": [[0.0, \"#0d0887\"], [0.1111111111111111, \"#46039f\"], [0.2222222222222222, \"#7201a8\"], [0.3333333333333333, \"#9c179e\"], [0.4444444444444444, \"#bd3786\"], [0.5555555555555556, \"#d8576b\"], [0.6666666666666666, \"#ed7953\"], [0.7777777777777778, \"#fb9f3a\"], [0.8888888888888888, \"#fdca26\"], [1.0, \"#f0f921\"]]}, \"colorway\": [\"#636efa\", \"#EF553B\", \"#00cc96\", \"#ab63fa\", \"#FFA15A\", \"#19d3f3\", \"#FF6692\", \"#B6E880\", \"#FF97FF\", \"#FECB52\"], \"font\": {\"color\": \"#2a3f5f\"}, \"geo\": {\"bgcolor\": \"white\", \"lakecolor\": \"white\", \"landcolor\": \"#E5ECF6\", \"showlakes\": true, \"showland\": true, \"subunitcolor\": \"white\"}, \"hoverlabel\": {\"align\": \"left\"}, \"hovermode\": \"closest\", \"mapbox\": {\"style\": \"light\"}, \"paper_bgcolor\": \"white\", \"plot_bgcolor\": \"#E5ECF6\", \"polar\": {\"angularaxis\": {\"gridcolor\": \"white\", \"linecolor\": \"white\", \"ticks\": \"\"}, \"bgcolor\": \"#E5ECF6\", \"radialaxis\": {\"gridcolor\": \"white\", \"linecolor\": \"white\", \"ticks\": \"\"}}, \"scene\": {\"xaxis\": {\"backgroundcolor\": \"#E5ECF6\", \"gridcolor\": \"white\", \"gridwidth\": 2, \"linecolor\": \"white\", \"showbackground\": true, \"ticks\": \"\", \"zerolinecolor\": \"white\"}, \"yaxis\": {\"backgroundcolor\": \"#E5ECF6\", \"gridcolor\": \"white\", \"gridwidth\": 2, \"linecolor\": \"white\", \"showbackground\": true, \"ticks\": \"\", \"zerolinecolor\": \"white\"}, \"zaxis\": {\"backgroundcolor\": \"#E5ECF6\", \"gridcolor\": \"white\", \"gridwidth\": 2, \"linecolor\": \"white\", \"showbackground\": true, \"ticks\": \"\", \"zerolinecolor\": \"white\"}}, \"shapedefaults\": {\"line\": {\"color\": \"#2a3f5f\"}}, \"ternary\": {\"aaxis\": {\"gridcolor\": \"white\", \"linecolor\": \"white\", \"ticks\": \"\"}, \"baxis\": {\"gridcolor\": \"white\", \"linecolor\": \"white\", \"ticks\": \"\"}, \"bgcolor\": \"#E5ECF6\", \"caxis\": {\"gridcolor\": \"white\", \"linecolor\": \"white\", \"ticks\": \"\"}}, \"title\": {\"x\": 0.05}, \"xaxis\": {\"automargin\": true, \"gridcolor\": \"white\", \"linecolor\": \"white\", \"ticks\": \"\", \"title\": {\"standoff\": 15}, \"zerolinecolor\": \"white\", \"zerolinewidth\": 2}, \"yaxis\": {\"automargin\": true, \"gridcolor\": \"white\", \"linecolor\": \"white\", \"ticks\": \"\", \"title\": {\"standoff\": 15}, \"zerolinecolor\": \"white\", \"zerolinewidth\": 2}}}, \"title\": {\"text\": \"Teenage Birth Rates in Baltimore City by Low Income\"}, \"xaxis\": {\"anchor\": \"y\", \"domain\": [0.0, 1.0], \"title\": {\"text\": \"Neighborhood\"}}, \"yaxis\": {\"anchor\": \"x\", \"domain\": [0.0, 1.0], \"title\": {\"text\": \"Low\"}}},\n",
              "                        {\"responsive\": true}\n",
              "                    ).then(function(){\n",
              "                            \n",
              "var gd = document.getElementById('04b192e3-c52f-4619-bf3a-e5bbfebd6afd');\n",
              "var x = new MutationObserver(function (mutations, observer) {{\n",
              "        var display = window.getComputedStyle(gd).display;\n",
              "        if (!display || display === 'none') {{\n",
              "            console.log([gd, 'removed!']);\n",
              "            Plotly.purge(gd);\n",
              "            observer.disconnect();\n",
              "        }}\n",
              "}});\n",
              "\n",
              "// Listen for the removal of the full notebook cells\n",
              "var notebookContainer = gd.closest('#notebook-container');\n",
              "if (notebookContainer) {{\n",
              "    x.observe(notebookContainer, {childList: true});\n",
              "}}\n",
              "\n",
              "// Listen for the clearing of the current output cell\n",
              "var outputEl = gd.closest('.output');\n",
              "if (outputEl) {{\n",
              "    x.observe(outputEl, {childList: true});\n",
              "}}\n",
              "\n",
              "                        })\n",
              "                };\n",
              "                \n",
              "            </script>\n",
              "        </div>\n",
              "</body>\n",
              "</html>"
            ]
          },
          "metadata": {
            "tags": []
          }
        }
      ]
    },
    {
      "cell_type": "code",
      "metadata": {
        "id": "itNQH7E8swlW"
      },
      "source": [
        "# bar graph for teenage birth rates in nyc low income \n",
        "bar_nyclowteenagebirthrate = px.bar(pvmodified_df_nyc_teenagebirths,x= \"Neighborhood\", y = \"Low\", title = \"Teenage Birth Rates in New York City by Low Income\")"
      ],
      "execution_count": 153,
      "outputs": []
    },
    {
      "cell_type": "code",
      "metadata": {
        "colab": {
          "base_uri": "https://localhost:8080/",
          "height": 542
        },
        "id": "A55MJSefs2o9",
        "outputId": "607583a0-f435-4be7-8693-3a31f08445d5"
      },
      "source": [
        "# data visualization \n",
        "bar_nyclowteenagebirthrate"
      ],
      "execution_count": 154,
      "outputs": [
        {
          "output_type": "display_data",
          "data": {
            "text/html": [
              "<html>\n",
              "<head><meta charset=\"utf-8\" /></head>\n",
              "<body>\n",
              "    <div>\n",
              "            <script src=\"https://cdnjs.cloudflare.com/ajax/libs/mathjax/2.7.5/MathJax.js?config=TeX-AMS-MML_SVG\"></script><script type=\"text/javascript\">if (window.MathJax) {MathJax.Hub.Config({SVG: {font: \"STIX-Web\"}});}</script>\n",
              "                <script type=\"text/javascript\">window.PlotlyConfig = {MathJaxConfig: 'local'};</script>\n",
              "        <script src=\"https://cdn.plot.ly/plotly-latest.min.js\"></script>    \n",
              "            <div id=\"bbb55a03-d9ad-4b4c-9720-5a1a7fbe54a9\" class=\"plotly-graph-div\" style=\"height:525px; width:100%;\"></div>\n",
              "            <script type=\"text/javascript\">\n",
              "                \n",
              "                    window.PLOTLYENV=window.PLOTLYENV || {};\n",
              "                    \n",
              "                if (document.getElementById(\"bbb55a03-d9ad-4b4c-9720-5a1a7fbe54a9\")) {\n",
              "                    Plotly.newPlot(\n",
              "                        'bbb55a03-d9ad-4b4c-9720-5a1a7fbe54a9',\n",
              "                        [{\"alignmentgroup\": \"True\", \"hoverlabel\": {\"namelength\": 0}, \"hovertemplate\": \"Neighborhood=%{x}<br>Low=%{y}\", \"legendgroup\": \"\", \"marker\": {\"color\": \"#636efa\"}, \"name\": \"\", \"offsetgroup\": \"\", \"orientation\": \"v\", \"showlegend\": false, \"textposition\": \"auto\", \"type\": \"bar\", \"x\": [\"Chinatown\", \"Yorkville\", \"Lenox Hill\", \"Midtown East\", \"Upper East Side\", \"Kips Bay\", \"Gramercy Park\", \"Lower East Side\", \"Midtown\", \"Lincoln Square\", \"Lower Manhattan\", \"Roosevelt Island\", \"Bloomingdale\", \"Upper West Side\", \"Bowery\", \"East Village\", \"Hell's Kitchen\", \"Hudson Heights\", \"Inwood\", \"Alphabet City\", \"Fort George\", \"Upper Manhattan\", \"West Bronx\", \"East Harlem\", \"Harlem\"], \"xaxis\": \"x\", \"y\": [0.02863333333333333, 0.0581, 0.049133333333333334, 0.0259, 0.08160555555555554, 0.067175, 0.07346666666666667, 0.08695, 0.11170256410256411, 0.08607142857142856, 0.13680217391304345, 0.1475, 0.1599, 0.1850764705882353, 0.1081, 0.1277, 0.19058571428571427, 0.1815, 0.22912, 0.2060833333333333, 0.22825, 0.26305151515151515, 0.2884, 0.33910555555555555, 0.34434], \"yaxis\": \"y\"}],\n",
              "                        {\"barmode\": \"relative\", \"legend\": {\"tracegroupgap\": 0}, \"template\": {\"data\": {\"bar\": [{\"error_x\": {\"color\": \"#2a3f5f\"}, \"error_y\": {\"color\": \"#2a3f5f\"}, \"marker\": {\"line\": {\"color\": \"#E5ECF6\", \"width\": 0.5}}, \"type\": \"bar\"}], \"barpolar\": [{\"marker\": {\"line\": {\"color\": \"#E5ECF6\", \"width\": 0.5}}, \"type\": \"barpolar\"}], \"carpet\": [{\"aaxis\": {\"endlinecolor\": \"#2a3f5f\", \"gridcolor\": \"white\", \"linecolor\": \"white\", \"minorgridcolor\": \"white\", \"startlinecolor\": \"#2a3f5f\"}, \"baxis\": {\"endlinecolor\": \"#2a3f5f\", \"gridcolor\": \"white\", \"linecolor\": \"white\", \"minorgridcolor\": \"white\", \"startlinecolor\": \"#2a3f5f\"}, \"type\": \"carpet\"}], \"choropleth\": [{\"colorbar\": {\"outlinewidth\": 0, \"ticks\": \"\"}, \"type\": \"choropleth\"}], \"contour\": [{\"colorbar\": {\"outlinewidth\": 0, \"ticks\": \"\"}, \"colorscale\": [[0.0, \"#0d0887\"], [0.1111111111111111, \"#46039f\"], [0.2222222222222222, \"#7201a8\"], [0.3333333333333333, \"#9c179e\"], [0.4444444444444444, \"#bd3786\"], [0.5555555555555556, \"#d8576b\"], [0.6666666666666666, \"#ed7953\"], [0.7777777777777778, \"#fb9f3a\"], [0.8888888888888888, \"#fdca26\"], [1.0, \"#f0f921\"]], \"type\": \"contour\"}], \"contourcarpet\": [{\"colorbar\": {\"outlinewidth\": 0, \"ticks\": \"\"}, \"type\": \"contourcarpet\"}], \"heatmap\": [{\"colorbar\": {\"outlinewidth\": 0, \"ticks\": \"\"}, \"colorscale\": [[0.0, \"#0d0887\"], [0.1111111111111111, \"#46039f\"], [0.2222222222222222, \"#7201a8\"], [0.3333333333333333, \"#9c179e\"], [0.4444444444444444, \"#bd3786\"], [0.5555555555555556, \"#d8576b\"], [0.6666666666666666, \"#ed7953\"], [0.7777777777777778, \"#fb9f3a\"], [0.8888888888888888, \"#fdca26\"], [1.0, \"#f0f921\"]], \"type\": \"heatmap\"}], \"heatmapgl\": [{\"colorbar\": {\"outlinewidth\": 0, \"ticks\": \"\"}, \"colorscale\": [[0.0, \"#0d0887\"], [0.1111111111111111, \"#46039f\"], [0.2222222222222222, \"#7201a8\"], [0.3333333333333333, \"#9c179e\"], [0.4444444444444444, \"#bd3786\"], [0.5555555555555556, \"#d8576b\"], [0.6666666666666666, \"#ed7953\"], [0.7777777777777778, \"#fb9f3a\"], [0.8888888888888888, \"#fdca26\"], [1.0, \"#f0f921\"]], \"type\": \"heatmapgl\"}], \"histogram\": [{\"marker\": {\"colorbar\": {\"outlinewidth\": 0, \"ticks\": \"\"}}, \"type\": \"histogram\"}], \"histogram2d\": [{\"colorbar\": {\"outlinewidth\": 0, \"ticks\": \"\"}, \"colorscale\": [[0.0, \"#0d0887\"], [0.1111111111111111, \"#46039f\"], [0.2222222222222222, \"#7201a8\"], [0.3333333333333333, \"#9c179e\"], [0.4444444444444444, \"#bd3786\"], [0.5555555555555556, \"#d8576b\"], [0.6666666666666666, \"#ed7953\"], [0.7777777777777778, \"#fb9f3a\"], [0.8888888888888888, \"#fdca26\"], [1.0, \"#f0f921\"]], \"type\": \"histogram2d\"}], \"histogram2dcontour\": [{\"colorbar\": {\"outlinewidth\": 0, \"ticks\": \"\"}, \"colorscale\": [[0.0, \"#0d0887\"], [0.1111111111111111, \"#46039f\"], [0.2222222222222222, \"#7201a8\"], [0.3333333333333333, \"#9c179e\"], [0.4444444444444444, \"#bd3786\"], [0.5555555555555556, \"#d8576b\"], [0.6666666666666666, \"#ed7953\"], [0.7777777777777778, \"#fb9f3a\"], [0.8888888888888888, \"#fdca26\"], [1.0, \"#f0f921\"]], \"type\": \"histogram2dcontour\"}], \"mesh3d\": [{\"colorbar\": {\"outlinewidth\": 0, \"ticks\": \"\"}, \"type\": \"mesh3d\"}], \"parcoords\": [{\"line\": {\"colorbar\": {\"outlinewidth\": 0, \"ticks\": \"\"}}, \"type\": \"parcoords\"}], \"pie\": [{\"automargin\": true, \"type\": \"pie\"}], \"scatter\": [{\"marker\": {\"colorbar\": {\"outlinewidth\": 0, \"ticks\": \"\"}}, \"type\": \"scatter\"}], \"scatter3d\": [{\"line\": {\"colorbar\": {\"outlinewidth\": 0, \"ticks\": \"\"}}, \"marker\": {\"colorbar\": {\"outlinewidth\": 0, \"ticks\": \"\"}}, \"type\": \"scatter3d\"}], \"scattercarpet\": [{\"marker\": {\"colorbar\": {\"outlinewidth\": 0, \"ticks\": \"\"}}, \"type\": \"scattercarpet\"}], \"scattergeo\": [{\"marker\": {\"colorbar\": {\"outlinewidth\": 0, \"ticks\": \"\"}}, \"type\": \"scattergeo\"}], \"scattergl\": [{\"marker\": {\"colorbar\": {\"outlinewidth\": 0, \"ticks\": \"\"}}, \"type\": \"scattergl\"}], \"scattermapbox\": [{\"marker\": {\"colorbar\": {\"outlinewidth\": 0, \"ticks\": \"\"}}, \"type\": \"scattermapbox\"}], \"scatterpolar\": [{\"marker\": {\"colorbar\": {\"outlinewidth\": 0, \"ticks\": \"\"}}, \"type\": \"scatterpolar\"}], \"scatterpolargl\": [{\"marker\": {\"colorbar\": {\"outlinewidth\": 0, \"ticks\": \"\"}}, \"type\": \"scatterpolargl\"}], \"scatterternary\": [{\"marker\": {\"colorbar\": {\"outlinewidth\": 0, \"ticks\": \"\"}}, \"type\": \"scatterternary\"}], \"surface\": [{\"colorbar\": {\"outlinewidth\": 0, \"ticks\": \"\"}, \"colorscale\": [[0.0, \"#0d0887\"], [0.1111111111111111, \"#46039f\"], [0.2222222222222222, \"#7201a8\"], [0.3333333333333333, \"#9c179e\"], [0.4444444444444444, \"#bd3786\"], [0.5555555555555556, \"#d8576b\"], [0.6666666666666666, \"#ed7953\"], [0.7777777777777778, \"#fb9f3a\"], [0.8888888888888888, \"#fdca26\"], [1.0, \"#f0f921\"]], \"type\": \"surface\"}], \"table\": [{\"cells\": {\"fill\": {\"color\": \"#EBF0F8\"}, \"line\": {\"color\": \"white\"}}, \"header\": {\"fill\": {\"color\": \"#C8D4E3\"}, \"line\": {\"color\": \"white\"}}, \"type\": \"table\"}]}, \"layout\": {\"annotationdefaults\": {\"arrowcolor\": \"#2a3f5f\", \"arrowhead\": 0, \"arrowwidth\": 1}, \"coloraxis\": {\"colorbar\": {\"outlinewidth\": 0, \"ticks\": \"\"}}, \"colorscale\": {\"diverging\": [[0, \"#8e0152\"], [0.1, \"#c51b7d\"], [0.2, \"#de77ae\"], [0.3, \"#f1b6da\"], [0.4, \"#fde0ef\"], [0.5, \"#f7f7f7\"], [0.6, \"#e6f5d0\"], [0.7, \"#b8e186\"], [0.8, \"#7fbc41\"], [0.9, \"#4d9221\"], [1, \"#276419\"]], \"sequential\": [[0.0, \"#0d0887\"], [0.1111111111111111, \"#46039f\"], [0.2222222222222222, \"#7201a8\"], [0.3333333333333333, \"#9c179e\"], [0.4444444444444444, \"#bd3786\"], [0.5555555555555556, \"#d8576b\"], [0.6666666666666666, \"#ed7953\"], [0.7777777777777778, \"#fb9f3a\"], [0.8888888888888888, \"#fdca26\"], [1.0, \"#f0f921\"]], \"sequentialminus\": [[0.0, \"#0d0887\"], [0.1111111111111111, \"#46039f\"], [0.2222222222222222, \"#7201a8\"], [0.3333333333333333, \"#9c179e\"], [0.4444444444444444, \"#bd3786\"], [0.5555555555555556, \"#d8576b\"], [0.6666666666666666, \"#ed7953\"], [0.7777777777777778, \"#fb9f3a\"], [0.8888888888888888, \"#fdca26\"], [1.0, \"#f0f921\"]]}, \"colorway\": [\"#636efa\", \"#EF553B\", \"#00cc96\", \"#ab63fa\", \"#FFA15A\", \"#19d3f3\", \"#FF6692\", \"#B6E880\", \"#FF97FF\", \"#FECB52\"], \"font\": {\"color\": \"#2a3f5f\"}, \"geo\": {\"bgcolor\": \"white\", \"lakecolor\": \"white\", \"landcolor\": \"#E5ECF6\", \"showlakes\": true, \"showland\": true, \"subunitcolor\": \"white\"}, \"hoverlabel\": {\"align\": \"left\"}, \"hovermode\": \"closest\", \"mapbox\": {\"style\": \"light\"}, \"paper_bgcolor\": \"white\", \"plot_bgcolor\": \"#E5ECF6\", \"polar\": {\"angularaxis\": {\"gridcolor\": \"white\", \"linecolor\": \"white\", \"ticks\": \"\"}, \"bgcolor\": \"#E5ECF6\", \"radialaxis\": {\"gridcolor\": \"white\", \"linecolor\": \"white\", \"ticks\": \"\"}}, \"scene\": {\"xaxis\": {\"backgroundcolor\": \"#E5ECF6\", \"gridcolor\": \"white\", \"gridwidth\": 2, \"linecolor\": \"white\", \"showbackground\": true, \"ticks\": \"\", \"zerolinecolor\": \"white\"}, \"yaxis\": {\"backgroundcolor\": \"#E5ECF6\", \"gridcolor\": \"white\", \"gridwidth\": 2, \"linecolor\": \"white\", \"showbackground\": true, \"ticks\": \"\", \"zerolinecolor\": \"white\"}, \"zaxis\": {\"backgroundcolor\": \"#E5ECF6\", \"gridcolor\": \"white\", \"gridwidth\": 2, \"linecolor\": \"white\", \"showbackground\": true, \"ticks\": \"\", \"zerolinecolor\": \"white\"}}, \"shapedefaults\": {\"line\": {\"color\": \"#2a3f5f\"}}, \"ternary\": {\"aaxis\": {\"gridcolor\": \"white\", \"linecolor\": \"white\", \"ticks\": \"\"}, \"baxis\": {\"gridcolor\": \"white\", \"linecolor\": \"white\", \"ticks\": \"\"}, \"bgcolor\": \"#E5ECF6\", \"caxis\": {\"gridcolor\": \"white\", \"linecolor\": \"white\", \"ticks\": \"\"}}, \"title\": {\"x\": 0.05}, \"xaxis\": {\"automargin\": true, \"gridcolor\": \"white\", \"linecolor\": \"white\", \"ticks\": \"\", \"title\": {\"standoff\": 15}, \"zerolinecolor\": \"white\", \"zerolinewidth\": 2}, \"yaxis\": {\"automargin\": true, \"gridcolor\": \"white\", \"linecolor\": \"white\", \"ticks\": \"\", \"title\": {\"standoff\": 15}, \"zerolinecolor\": \"white\", \"zerolinewidth\": 2}}}, \"title\": {\"text\": \"Teenage Birth Rates in New York City by Low Income\"}, \"xaxis\": {\"anchor\": \"y\", \"domain\": [0.0, 1.0], \"title\": {\"text\": \"Neighborhood\"}}, \"yaxis\": {\"anchor\": \"x\", \"domain\": [0.0, 1.0], \"title\": {\"text\": \"Low\"}}},\n",
              "                        {\"responsive\": true}\n",
              "                    ).then(function(){\n",
              "                            \n",
              "var gd = document.getElementById('bbb55a03-d9ad-4b4c-9720-5a1a7fbe54a9');\n",
              "var x = new MutationObserver(function (mutations, observer) {{\n",
              "        var display = window.getComputedStyle(gd).display;\n",
              "        if (!display || display === 'none') {{\n",
              "            console.log([gd, 'removed!']);\n",
              "            Plotly.purge(gd);\n",
              "            observer.disconnect();\n",
              "        }}\n",
              "}});\n",
              "\n",
              "// Listen for the removal of the full notebook cells\n",
              "var notebookContainer = gd.closest('#notebook-container');\n",
              "if (notebookContainer) {{\n",
              "    x.observe(notebookContainer, {childList: true});\n",
              "}}\n",
              "\n",
              "// Listen for the clearing of the current output cell\n",
              "var outputEl = gd.closest('.output');\n",
              "if (outputEl) {{\n",
              "    x.observe(outputEl, {childList: true});\n",
              "}}\n",
              "\n",
              "                        })\n",
              "                };\n",
              "                \n",
              "            </script>\n",
              "        </div>\n",
              "</body>\n",
              "</html>"
            ]
          },
          "metadata": {
            "tags": []
          }
        }
      ]
    },
    {
      "cell_type": "markdown",
      "metadata": {
        "id": "Tf9vWNMaq-XQ"
      },
      "source": [
        "# Pivot Tables by City"
      ]
    },
    {
      "cell_type": "code",
      "metadata": {
        "id": "qmozFwEEs-pV"
      },
      "source": [
        "# pivot table for overall nyc teenage birth rates by income level\n",
        "citypvmodified_df_nyc_teenagebirths = pd.pivot_table(modified_df_nyc_teenagebirths,\n",
        "                    index = \"City\",\n",
        "                    columns = \"Income\",\n",
        "                    values = \"Teenage Birth Rate\",\n",
        "                    aggfunc = np.mean).reset_index()"
      ],
      "execution_count": 156,
      "outputs": []
    },
    {
      "cell_type": "code",
      "metadata": {
        "colab": {
          "base_uri": "https://localhost:8080/",
          "height": 80
        },
        "id": "Qs0WrzjBtSJw",
        "outputId": "58fc60a0-58a7-4d80-a01d-ba800b19f040"
      },
      "source": [
        "# nyc overall table\n",
        "citypvmodified_df_nyc_teenagebirths.head()"
      ],
      "execution_count": 158,
      "outputs": [
        {
          "output_type": "execute_result",
          "data": {
            "text/html": [
              "<div>\n",
              "<style scoped>\n",
              "    .dataframe tbody tr th:only-of-type {\n",
              "        vertical-align: middle;\n",
              "    }\n",
              "\n",
              "    .dataframe tbody tr th {\n",
              "        vertical-align: top;\n",
              "    }\n",
              "\n",
              "    .dataframe thead th {\n",
              "        text-align: right;\n",
              "    }\n",
              "</style>\n",
              "<table border=\"1\" class=\"dataframe\">\n",
              "  <thead>\n",
              "    <tr style=\"text-align: right;\">\n",
              "      <th>Income</th>\n",
              "      <th>City</th>\n",
              "      <th>All</th>\n",
              "      <th>High</th>\n",
              "      <th>Low</th>\n",
              "      <th>Middle</th>\n",
              "    </tr>\n",
              "  </thead>\n",
              "  <tbody>\n",
              "    <tr>\n",
              "      <th>0</th>\n",
              "      <td>New York</td>\n",
              "      <td>0.147025</td>\n",
              "      <td>0.105773</td>\n",
              "      <td>0.183685</td>\n",
              "      <td>0.137729</td>\n",
              "    </tr>\n",
              "  </tbody>\n",
              "</table>\n",
              "</div>"
            ],
            "text/plain": [
              "Income       City       All      High       Low    Middle\n",
              "0        New York  0.147025  0.105773  0.183685  0.137729"
            ]
          },
          "metadata": {
            "tags": []
          },
          "execution_count": 158
        }
      ]
    },
    {
      "cell_type": "code",
      "metadata": {
        "id": "Kf1nKM7YtcrI"
      },
      "source": [
        "# pivot table for overall balti teenage birth rates by income level\n",
        "citypvmodified_df_balti_teenagebirths = pd.pivot_table(modified_df_balti_teenagebirths,\n",
        "                    index = \"City\",\n",
        "                    columns = \"Income\",\n",
        "                    values = \"Teenage Birth Rate\",\n",
        "                    aggfunc = np.mean).reset_index()"
      ],
      "execution_count": 159,
      "outputs": []
    },
    {
      "cell_type": "code",
      "metadata": {
        "colab": {
          "base_uri": "https://localhost:8080/",
          "height": 80
        },
        "id": "pK-vCewWtglu",
        "outputId": "431f339c-fa4d-4fcf-b729-4861ed737755"
      },
      "source": [
        "# balti overall table\n",
        "citypvmodified_df_balti_teenagebirths.head()"
      ],
      "execution_count": 160,
      "outputs": [
        {
          "output_type": "execute_result",
          "data": {
            "text/html": [
              "<div>\n",
              "<style scoped>\n",
              "    .dataframe tbody tr th:only-of-type {\n",
              "        vertical-align: middle;\n",
              "    }\n",
              "\n",
              "    .dataframe tbody tr th {\n",
              "        vertical-align: top;\n",
              "    }\n",
              "\n",
              "    .dataframe thead th {\n",
              "        text-align: right;\n",
              "    }\n",
              "</style>\n",
              "<table border=\"1\" class=\"dataframe\">\n",
              "  <thead>\n",
              "    <tr style=\"text-align: right;\">\n",
              "      <th>Income</th>\n",
              "      <th>City</th>\n",
              "      <th>All</th>\n",
              "      <th>High</th>\n",
              "      <th>Low</th>\n",
              "      <th>Middle</th>\n",
              "    </tr>\n",
              "  </thead>\n",
              "  <tbody>\n",
              "    <tr>\n",
              "      <th>0</th>\n",
              "      <td>Baltimore</td>\n",
              "      <td>0.397786</td>\n",
              "      <td>0.259241</td>\n",
              "      <td>0.451793</td>\n",
              "      <td>0.342266</td>\n",
              "    </tr>\n",
              "  </tbody>\n",
              "</table>\n",
              "</div>"
            ],
            "text/plain": [
              "Income        City       All      High       Low    Middle\n",
              "0        Baltimore  0.397786  0.259241  0.451793  0.342266"
            ]
          },
          "metadata": {
            "tags": []
          },
          "execution_count": 160
        }
      ]
    },
    {
      "cell_type": "markdown",
      "metadata": {
        "id": "HwW9uf5oq4nr"
      },
      "source": [
        "# Merge Condensed Datasets to Create Bar Graph"
      ]
    },
    {
      "cell_type": "code",
      "metadata": {
        "id": "Obe7OGUXvKy-"
      },
      "source": [
        "#using base function merge\n",
        "df_combinedcities = pd.concat([citypvmodified_df_balti_teenagebirths,citypvmodified_df_nyc_teenagebirths],axis=0)"
      ],
      "execution_count": 168,
      "outputs": []
    },
    {
      "cell_type": "code",
      "metadata": {
        "colab": {
          "base_uri": "https://localhost:8080/",
          "height": 111
        },
        "id": "Tm9o0ara0Oy1",
        "outputId": "b7c423a7-4a40-422e-8666-0a36924d5982"
      },
      "source": [
        "# viewing combined dataset for overall cities\n",
        "df_combinedcities.head()"
      ],
      "execution_count": 169,
      "outputs": [
        {
          "output_type": "execute_result",
          "data": {
            "text/html": [
              "<div>\n",
              "<style scoped>\n",
              "    .dataframe tbody tr th:only-of-type {\n",
              "        vertical-align: middle;\n",
              "    }\n",
              "\n",
              "    .dataframe tbody tr th {\n",
              "        vertical-align: top;\n",
              "    }\n",
              "\n",
              "    .dataframe thead th {\n",
              "        text-align: right;\n",
              "    }\n",
              "</style>\n",
              "<table border=\"1\" class=\"dataframe\">\n",
              "  <thead>\n",
              "    <tr style=\"text-align: right;\">\n",
              "      <th>Income</th>\n",
              "      <th>City</th>\n",
              "      <th>All</th>\n",
              "      <th>High</th>\n",
              "      <th>Low</th>\n",
              "      <th>Middle</th>\n",
              "    </tr>\n",
              "  </thead>\n",
              "  <tbody>\n",
              "    <tr>\n",
              "      <th>0</th>\n",
              "      <td>Baltimore</td>\n",
              "      <td>0.397786</td>\n",
              "      <td>0.259241</td>\n",
              "      <td>0.451793</td>\n",
              "      <td>0.342266</td>\n",
              "    </tr>\n",
              "    <tr>\n",
              "      <th>0</th>\n",
              "      <td>New York</td>\n",
              "      <td>0.147025</td>\n",
              "      <td>0.105773</td>\n",
              "      <td>0.183685</td>\n",
              "      <td>0.137729</td>\n",
              "    </tr>\n",
              "  </tbody>\n",
              "</table>\n",
              "</div>"
            ],
            "text/plain": [
              "Income        City       All      High       Low    Middle\n",
              "0        Baltimore  0.397786  0.259241  0.451793  0.342266\n",
              "0         New York  0.147025  0.105773  0.183685  0.137729"
            ]
          },
          "metadata": {
            "tags": []
          },
          "execution_count": 169
        }
      ]
    },
    {
      "cell_type": "code",
      "metadata": {
        "id": "zuOzlx7SuPm5"
      },
      "source": [
        "# bar graph for overall teenage birth rates in balti and nyc all income\n",
        "bar_combinedcities = px.bar(df_combinedcities,x= \"City\", y = (\"All\"), title = \"Teenage Birth Rates in Baltimore City vs. New York City for All Income\")"
      ],
      "execution_count": 180,
      "outputs": []
    },
    {
      "cell_type": "code",
      "metadata": {
        "colab": {
          "base_uri": "https://localhost:8080/",
          "height": 542
        },
        "id": "HA38iR5902d0",
        "outputId": "b37f9a27-a13b-4e3d-efb8-e7cee22ff7e7"
      },
      "source": [
        "# view bar graph for two cities\n",
        "bar_combinedcities"
      ],
      "execution_count": 179,
      "outputs": [
        {
          "output_type": "display_data",
          "data": {
            "text/html": [
              "<html>\n",
              "<head><meta charset=\"utf-8\" /></head>\n",
              "<body>\n",
              "    <div>\n",
              "            <script src=\"https://cdnjs.cloudflare.com/ajax/libs/mathjax/2.7.5/MathJax.js?config=TeX-AMS-MML_SVG\"></script><script type=\"text/javascript\">if (window.MathJax) {MathJax.Hub.Config({SVG: {font: \"STIX-Web\"}});}</script>\n",
              "                <script type=\"text/javascript\">window.PlotlyConfig = {MathJaxConfig: 'local'};</script>\n",
              "        <script src=\"https://cdn.plot.ly/plotly-latest.min.js\"></script>    \n",
              "            <div id=\"4a834d07-c0ae-4667-9060-9a763481ed8c\" class=\"plotly-graph-div\" style=\"height:525px; width:100%;\"></div>\n",
              "            <script type=\"text/javascript\">\n",
              "                \n",
              "                    window.PLOTLYENV=window.PLOTLYENV || {};\n",
              "                    \n",
              "                if (document.getElementById(\"4a834d07-c0ae-4667-9060-9a763481ed8c\")) {\n",
              "                    Plotly.newPlot(\n",
              "                        '4a834d07-c0ae-4667-9060-9a763481ed8c',\n",
              "                        [{\"alignmentgroup\": \"True\", \"hoverlabel\": {\"namelength\": 0}, \"hovertemplate\": \"City=%{x}<br>All=%{y}\", \"legendgroup\": \"\", \"marker\": {\"color\": \"#636efa\"}, \"name\": \"\", \"offsetgroup\": \"\", \"orientation\": \"v\", \"showlegend\": false, \"textposition\": \"auto\", \"type\": \"bar\", \"x\": [\" Baltimore\", \" New York\"], \"xaxis\": \"x\", \"y\": [0.39778645833333326, 0.14702454212454216], \"yaxis\": \"y\"}],\n",
              "                        {\"barmode\": \"relative\", \"legend\": {\"tracegroupgap\": 0}, \"template\": {\"data\": {\"bar\": [{\"error_x\": {\"color\": \"#2a3f5f\"}, \"error_y\": {\"color\": \"#2a3f5f\"}, \"marker\": {\"line\": {\"color\": \"#E5ECF6\", \"width\": 0.5}}, \"type\": \"bar\"}], \"barpolar\": [{\"marker\": {\"line\": {\"color\": \"#E5ECF6\", \"width\": 0.5}}, \"type\": \"barpolar\"}], \"carpet\": [{\"aaxis\": {\"endlinecolor\": \"#2a3f5f\", \"gridcolor\": \"white\", \"linecolor\": \"white\", \"minorgridcolor\": \"white\", \"startlinecolor\": \"#2a3f5f\"}, \"baxis\": {\"endlinecolor\": \"#2a3f5f\", \"gridcolor\": \"white\", \"linecolor\": \"white\", \"minorgridcolor\": \"white\", \"startlinecolor\": \"#2a3f5f\"}, \"type\": \"carpet\"}], \"choropleth\": [{\"colorbar\": {\"outlinewidth\": 0, \"ticks\": \"\"}, \"type\": \"choropleth\"}], \"contour\": [{\"colorbar\": {\"outlinewidth\": 0, \"ticks\": \"\"}, \"colorscale\": [[0.0, \"#0d0887\"], [0.1111111111111111, \"#46039f\"], [0.2222222222222222, \"#7201a8\"], [0.3333333333333333, \"#9c179e\"], [0.4444444444444444, \"#bd3786\"], [0.5555555555555556, \"#d8576b\"], [0.6666666666666666, \"#ed7953\"], [0.7777777777777778, \"#fb9f3a\"], [0.8888888888888888, \"#fdca26\"], [1.0, \"#f0f921\"]], \"type\": \"contour\"}], \"contourcarpet\": [{\"colorbar\": {\"outlinewidth\": 0, \"ticks\": \"\"}, \"type\": \"contourcarpet\"}], \"heatmap\": [{\"colorbar\": {\"outlinewidth\": 0, \"ticks\": \"\"}, \"colorscale\": [[0.0, \"#0d0887\"], [0.1111111111111111, \"#46039f\"], [0.2222222222222222, \"#7201a8\"], [0.3333333333333333, \"#9c179e\"], [0.4444444444444444, \"#bd3786\"], [0.5555555555555556, \"#d8576b\"], [0.6666666666666666, \"#ed7953\"], [0.7777777777777778, \"#fb9f3a\"], [0.8888888888888888, \"#fdca26\"], [1.0, \"#f0f921\"]], \"type\": \"heatmap\"}], \"heatmapgl\": [{\"colorbar\": {\"outlinewidth\": 0, \"ticks\": \"\"}, \"colorscale\": [[0.0, \"#0d0887\"], [0.1111111111111111, \"#46039f\"], [0.2222222222222222, \"#7201a8\"], [0.3333333333333333, \"#9c179e\"], [0.4444444444444444, \"#bd3786\"], [0.5555555555555556, \"#d8576b\"], [0.6666666666666666, \"#ed7953\"], [0.7777777777777778, \"#fb9f3a\"], [0.8888888888888888, \"#fdca26\"], [1.0, \"#f0f921\"]], \"type\": \"heatmapgl\"}], \"histogram\": [{\"marker\": {\"colorbar\": {\"outlinewidth\": 0, \"ticks\": \"\"}}, \"type\": \"histogram\"}], \"histogram2d\": [{\"colorbar\": {\"outlinewidth\": 0, \"ticks\": \"\"}, \"colorscale\": [[0.0, \"#0d0887\"], [0.1111111111111111, \"#46039f\"], [0.2222222222222222, \"#7201a8\"], [0.3333333333333333, \"#9c179e\"], [0.4444444444444444, \"#bd3786\"], [0.5555555555555556, \"#d8576b\"], [0.6666666666666666, \"#ed7953\"], [0.7777777777777778, \"#fb9f3a\"], [0.8888888888888888, \"#fdca26\"], [1.0, \"#f0f921\"]], \"type\": \"histogram2d\"}], \"histogram2dcontour\": [{\"colorbar\": {\"outlinewidth\": 0, \"ticks\": \"\"}, \"colorscale\": [[0.0, \"#0d0887\"], [0.1111111111111111, \"#46039f\"], [0.2222222222222222, \"#7201a8\"], [0.3333333333333333, \"#9c179e\"], [0.4444444444444444, \"#bd3786\"], [0.5555555555555556, \"#d8576b\"], [0.6666666666666666, \"#ed7953\"], [0.7777777777777778, \"#fb9f3a\"], [0.8888888888888888, \"#fdca26\"], [1.0, \"#f0f921\"]], \"type\": \"histogram2dcontour\"}], \"mesh3d\": [{\"colorbar\": {\"outlinewidth\": 0, \"ticks\": \"\"}, \"type\": \"mesh3d\"}], \"parcoords\": [{\"line\": {\"colorbar\": {\"outlinewidth\": 0, \"ticks\": \"\"}}, \"type\": \"parcoords\"}], \"pie\": [{\"automargin\": true, \"type\": \"pie\"}], \"scatter\": [{\"marker\": {\"colorbar\": {\"outlinewidth\": 0, \"ticks\": \"\"}}, \"type\": \"scatter\"}], \"scatter3d\": [{\"line\": {\"colorbar\": {\"outlinewidth\": 0, \"ticks\": \"\"}}, \"marker\": {\"colorbar\": {\"outlinewidth\": 0, \"ticks\": \"\"}}, \"type\": \"scatter3d\"}], \"scattercarpet\": [{\"marker\": {\"colorbar\": {\"outlinewidth\": 0, \"ticks\": \"\"}}, \"type\": \"scattercarpet\"}], \"scattergeo\": [{\"marker\": {\"colorbar\": {\"outlinewidth\": 0, \"ticks\": \"\"}}, \"type\": \"scattergeo\"}], \"scattergl\": [{\"marker\": {\"colorbar\": {\"outlinewidth\": 0, \"ticks\": \"\"}}, \"type\": \"scattergl\"}], \"scattermapbox\": [{\"marker\": {\"colorbar\": {\"outlinewidth\": 0, \"ticks\": \"\"}}, \"type\": \"scattermapbox\"}], \"scatterpolar\": [{\"marker\": {\"colorbar\": {\"outlinewidth\": 0, \"ticks\": \"\"}}, \"type\": \"scatterpolar\"}], \"scatterpolargl\": [{\"marker\": {\"colorbar\": {\"outlinewidth\": 0, \"ticks\": \"\"}}, \"type\": \"scatterpolargl\"}], \"scatterternary\": [{\"marker\": {\"colorbar\": {\"outlinewidth\": 0, \"ticks\": \"\"}}, \"type\": \"scatterternary\"}], \"surface\": [{\"colorbar\": {\"outlinewidth\": 0, \"ticks\": \"\"}, \"colorscale\": [[0.0, \"#0d0887\"], [0.1111111111111111, \"#46039f\"], [0.2222222222222222, \"#7201a8\"], [0.3333333333333333, \"#9c179e\"], [0.4444444444444444, \"#bd3786\"], [0.5555555555555556, \"#d8576b\"], [0.6666666666666666, \"#ed7953\"], [0.7777777777777778, \"#fb9f3a\"], [0.8888888888888888, \"#fdca26\"], [1.0, \"#f0f921\"]], \"type\": \"surface\"}], \"table\": [{\"cells\": {\"fill\": {\"color\": \"#EBF0F8\"}, \"line\": {\"color\": \"white\"}}, \"header\": {\"fill\": {\"color\": \"#C8D4E3\"}, \"line\": {\"color\": \"white\"}}, \"type\": \"table\"}]}, \"layout\": {\"annotationdefaults\": {\"arrowcolor\": \"#2a3f5f\", \"arrowhead\": 0, \"arrowwidth\": 1}, \"coloraxis\": {\"colorbar\": {\"outlinewidth\": 0, \"ticks\": \"\"}}, \"colorscale\": {\"diverging\": [[0, \"#8e0152\"], [0.1, \"#c51b7d\"], [0.2, \"#de77ae\"], [0.3, \"#f1b6da\"], [0.4, \"#fde0ef\"], [0.5, \"#f7f7f7\"], [0.6, \"#e6f5d0\"], [0.7, \"#b8e186\"], [0.8, \"#7fbc41\"], [0.9, \"#4d9221\"], [1, \"#276419\"]], \"sequential\": [[0.0, \"#0d0887\"], [0.1111111111111111, \"#46039f\"], [0.2222222222222222, \"#7201a8\"], [0.3333333333333333, \"#9c179e\"], [0.4444444444444444, \"#bd3786\"], [0.5555555555555556, \"#d8576b\"], [0.6666666666666666, \"#ed7953\"], [0.7777777777777778, \"#fb9f3a\"], [0.8888888888888888, \"#fdca26\"], [1.0, \"#f0f921\"]], \"sequentialminus\": [[0.0, \"#0d0887\"], [0.1111111111111111, \"#46039f\"], [0.2222222222222222, \"#7201a8\"], [0.3333333333333333, \"#9c179e\"], [0.4444444444444444, \"#bd3786\"], [0.5555555555555556, \"#d8576b\"], [0.6666666666666666, \"#ed7953\"], [0.7777777777777778, \"#fb9f3a\"], [0.8888888888888888, \"#fdca26\"], [1.0, \"#f0f921\"]]}, \"colorway\": [\"#636efa\", \"#EF553B\", \"#00cc96\", \"#ab63fa\", \"#FFA15A\", \"#19d3f3\", \"#FF6692\", \"#B6E880\", \"#FF97FF\", \"#FECB52\"], \"font\": {\"color\": \"#2a3f5f\"}, \"geo\": {\"bgcolor\": \"white\", \"lakecolor\": \"white\", \"landcolor\": \"#E5ECF6\", \"showlakes\": true, \"showland\": true, \"subunitcolor\": \"white\"}, \"hoverlabel\": {\"align\": \"left\"}, \"hovermode\": \"closest\", \"mapbox\": {\"style\": \"light\"}, \"paper_bgcolor\": \"white\", \"plot_bgcolor\": \"#E5ECF6\", \"polar\": {\"angularaxis\": {\"gridcolor\": \"white\", \"linecolor\": \"white\", \"ticks\": \"\"}, \"bgcolor\": \"#E5ECF6\", \"radialaxis\": {\"gridcolor\": \"white\", \"linecolor\": \"white\", \"ticks\": \"\"}}, \"scene\": {\"xaxis\": {\"backgroundcolor\": \"#E5ECF6\", \"gridcolor\": \"white\", \"gridwidth\": 2, \"linecolor\": \"white\", \"showbackground\": true, \"ticks\": \"\", \"zerolinecolor\": \"white\"}, \"yaxis\": {\"backgroundcolor\": \"#E5ECF6\", \"gridcolor\": \"white\", \"gridwidth\": 2, \"linecolor\": \"white\", \"showbackground\": true, \"ticks\": \"\", \"zerolinecolor\": \"white\"}, \"zaxis\": {\"backgroundcolor\": \"#E5ECF6\", \"gridcolor\": \"white\", \"gridwidth\": 2, \"linecolor\": \"white\", \"showbackground\": true, \"ticks\": \"\", \"zerolinecolor\": \"white\"}}, \"shapedefaults\": {\"line\": {\"color\": \"#2a3f5f\"}}, \"ternary\": {\"aaxis\": {\"gridcolor\": \"white\", \"linecolor\": \"white\", \"ticks\": \"\"}, \"baxis\": {\"gridcolor\": \"white\", \"linecolor\": \"white\", \"ticks\": \"\"}, \"bgcolor\": \"#E5ECF6\", \"caxis\": {\"gridcolor\": \"white\", \"linecolor\": \"white\", \"ticks\": \"\"}}, \"title\": {\"x\": 0.05}, \"xaxis\": {\"automargin\": true, \"gridcolor\": \"white\", \"linecolor\": \"white\", \"ticks\": \"\", \"title\": {\"standoff\": 15}, \"zerolinecolor\": \"white\", \"zerolinewidth\": 2}, \"yaxis\": {\"automargin\": true, \"gridcolor\": \"white\", \"linecolor\": \"white\", \"ticks\": \"\", \"title\": {\"standoff\": 15}, \"zerolinecolor\": \"white\", \"zerolinewidth\": 2}}}, \"title\": {\"text\": \"Teenage Birth Rates in Baltimore City vs. New York City for All Income\"}, \"xaxis\": {\"anchor\": \"y\", \"domain\": [0.0, 1.0], \"title\": {\"text\": \"City\"}}, \"yaxis\": {\"anchor\": \"x\", \"domain\": [0.0, 1.0], \"title\": {\"text\": \"All\"}}},\n",
              "                        {\"responsive\": true}\n",
              "                    ).then(function(){\n",
              "                            \n",
              "var gd = document.getElementById('4a834d07-c0ae-4667-9060-9a763481ed8c');\n",
              "var x = new MutationObserver(function (mutations, observer) {{\n",
              "        var display = window.getComputedStyle(gd).display;\n",
              "        if (!display || display === 'none') {{\n",
              "            console.log([gd, 'removed!']);\n",
              "            Plotly.purge(gd);\n",
              "            observer.disconnect();\n",
              "        }}\n",
              "}});\n",
              "\n",
              "// Listen for the removal of the full notebook cells\n",
              "var notebookContainer = gd.closest('#notebook-container');\n",
              "if (notebookContainer) {{\n",
              "    x.observe(notebookContainer, {childList: true});\n",
              "}}\n",
              "\n",
              "// Listen for the clearing of the current output cell\n",
              "var outputEl = gd.closest('.output');\n",
              "if (outputEl) {{\n",
              "    x.observe(outputEl, {childList: true});\n",
              "}}\n",
              "\n",
              "                        })\n",
              "                };\n",
              "                \n",
              "            </script>\n",
              "        </div>\n",
              "</body>\n",
              "</html>"
            ]
          },
          "metadata": {
            "tags": []
          }
        }
      ]
    },
    {
      "cell_type": "code",
      "metadata": {
        "id": "f18F6HuC084R"
      },
      "source": [
        "# bar graph for overall teenage birth rates in balti and nyc low income\n",
        "bar_lowcombinedcities = px.bar(df_combinedcities,x= \"City\", y = (\"Low\"), title = \"Teenage Birth Rates in Baltimore City vs. New York City for Low Income\")"
      ],
      "execution_count": 183,
      "outputs": []
    },
    {
      "cell_type": "code",
      "metadata": {
        "colab": {
          "base_uri": "https://localhost:8080/",
          "height": 542
        },
        "id": "5RKBnKID13gP",
        "outputId": "1736f941-a74f-4c6d-ff14-dad546dc2293"
      },
      "source": [
        "# view bar graph for two cities\n",
        "bar_lowcombinedcities"
      ],
      "execution_count": 184,
      "outputs": [
        {
          "output_type": "display_data",
          "data": {
            "text/html": [
              "<html>\n",
              "<head><meta charset=\"utf-8\" /></head>\n",
              "<body>\n",
              "    <div>\n",
              "            <script src=\"https://cdnjs.cloudflare.com/ajax/libs/mathjax/2.7.5/MathJax.js?config=TeX-AMS-MML_SVG\"></script><script type=\"text/javascript\">if (window.MathJax) {MathJax.Hub.Config({SVG: {font: \"STIX-Web\"}});}</script>\n",
              "                <script type=\"text/javascript\">window.PlotlyConfig = {MathJaxConfig: 'local'};</script>\n",
              "        <script src=\"https://cdn.plot.ly/plotly-latest.min.js\"></script>    \n",
              "            <div id=\"acdaf068-6f68-4edf-8797-6337d14adc62\" class=\"plotly-graph-div\" style=\"height:525px; width:100%;\"></div>\n",
              "            <script type=\"text/javascript\">\n",
              "                \n",
              "                    window.PLOTLYENV=window.PLOTLYENV || {};\n",
              "                    \n",
              "                if (document.getElementById(\"acdaf068-6f68-4edf-8797-6337d14adc62\")) {\n",
              "                    Plotly.newPlot(\n",
              "                        'acdaf068-6f68-4edf-8797-6337d14adc62',\n",
              "                        [{\"alignmentgroup\": \"True\", \"hoverlabel\": {\"namelength\": 0}, \"hovertemplate\": \"City=%{x}<br>Low=%{y}\", \"legendgroup\": \"\", \"marker\": {\"color\": \"#636efa\"}, \"name\": \"\", \"offsetgroup\": \"\", \"orientation\": \"v\", \"showlegend\": false, \"textposition\": \"auto\", \"type\": \"bar\", \"x\": [\" Baltimore\", \" New York\"], \"xaxis\": \"x\", \"y\": [0.45179267015706837, 0.18368507462686562], \"yaxis\": \"y\"}],\n",
              "                        {\"barmode\": \"relative\", \"legend\": {\"tracegroupgap\": 0}, \"template\": {\"data\": {\"bar\": [{\"error_x\": {\"color\": \"#2a3f5f\"}, \"error_y\": {\"color\": \"#2a3f5f\"}, \"marker\": {\"line\": {\"color\": \"#E5ECF6\", \"width\": 0.5}}, \"type\": \"bar\"}], \"barpolar\": [{\"marker\": {\"line\": {\"color\": \"#E5ECF6\", \"width\": 0.5}}, \"type\": \"barpolar\"}], \"carpet\": [{\"aaxis\": {\"endlinecolor\": \"#2a3f5f\", \"gridcolor\": \"white\", \"linecolor\": \"white\", \"minorgridcolor\": \"white\", \"startlinecolor\": \"#2a3f5f\"}, \"baxis\": {\"endlinecolor\": \"#2a3f5f\", \"gridcolor\": \"white\", \"linecolor\": \"white\", \"minorgridcolor\": \"white\", \"startlinecolor\": \"#2a3f5f\"}, \"type\": \"carpet\"}], \"choropleth\": [{\"colorbar\": {\"outlinewidth\": 0, \"ticks\": \"\"}, \"type\": \"choropleth\"}], \"contour\": [{\"colorbar\": {\"outlinewidth\": 0, \"ticks\": \"\"}, \"colorscale\": [[0.0, \"#0d0887\"], [0.1111111111111111, \"#46039f\"], [0.2222222222222222, \"#7201a8\"], [0.3333333333333333, \"#9c179e\"], [0.4444444444444444, \"#bd3786\"], [0.5555555555555556, \"#d8576b\"], [0.6666666666666666, \"#ed7953\"], [0.7777777777777778, \"#fb9f3a\"], [0.8888888888888888, \"#fdca26\"], [1.0, \"#f0f921\"]], \"type\": \"contour\"}], \"contourcarpet\": [{\"colorbar\": {\"outlinewidth\": 0, \"ticks\": \"\"}, \"type\": \"contourcarpet\"}], \"heatmap\": [{\"colorbar\": {\"outlinewidth\": 0, \"ticks\": \"\"}, \"colorscale\": [[0.0, \"#0d0887\"], [0.1111111111111111, \"#46039f\"], [0.2222222222222222, \"#7201a8\"], [0.3333333333333333, \"#9c179e\"], [0.4444444444444444, \"#bd3786\"], [0.5555555555555556, \"#d8576b\"], [0.6666666666666666, \"#ed7953\"], [0.7777777777777778, \"#fb9f3a\"], [0.8888888888888888, \"#fdca26\"], [1.0, \"#f0f921\"]], \"type\": \"heatmap\"}], \"heatmapgl\": [{\"colorbar\": {\"outlinewidth\": 0, \"ticks\": \"\"}, \"colorscale\": [[0.0, \"#0d0887\"], [0.1111111111111111, \"#46039f\"], [0.2222222222222222, \"#7201a8\"], [0.3333333333333333, \"#9c179e\"], [0.4444444444444444, \"#bd3786\"], [0.5555555555555556, \"#d8576b\"], [0.6666666666666666, \"#ed7953\"], [0.7777777777777778, \"#fb9f3a\"], [0.8888888888888888, \"#fdca26\"], [1.0, \"#f0f921\"]], \"type\": \"heatmapgl\"}], \"histogram\": [{\"marker\": {\"colorbar\": {\"outlinewidth\": 0, \"ticks\": \"\"}}, \"type\": \"histogram\"}], \"histogram2d\": [{\"colorbar\": {\"outlinewidth\": 0, \"ticks\": \"\"}, \"colorscale\": [[0.0, \"#0d0887\"], [0.1111111111111111, \"#46039f\"], [0.2222222222222222, \"#7201a8\"], [0.3333333333333333, \"#9c179e\"], [0.4444444444444444, \"#bd3786\"], [0.5555555555555556, \"#d8576b\"], [0.6666666666666666, \"#ed7953\"], [0.7777777777777778, \"#fb9f3a\"], [0.8888888888888888, \"#fdca26\"], [1.0, \"#f0f921\"]], \"type\": \"histogram2d\"}], \"histogram2dcontour\": [{\"colorbar\": {\"outlinewidth\": 0, \"ticks\": \"\"}, \"colorscale\": [[0.0, \"#0d0887\"], [0.1111111111111111, \"#46039f\"], [0.2222222222222222, \"#7201a8\"], [0.3333333333333333, \"#9c179e\"], [0.4444444444444444, \"#bd3786\"], [0.5555555555555556, \"#d8576b\"], [0.6666666666666666, \"#ed7953\"], [0.7777777777777778, \"#fb9f3a\"], [0.8888888888888888, \"#fdca26\"], [1.0, \"#f0f921\"]], \"type\": \"histogram2dcontour\"}], \"mesh3d\": [{\"colorbar\": {\"outlinewidth\": 0, \"ticks\": \"\"}, \"type\": \"mesh3d\"}], \"parcoords\": [{\"line\": {\"colorbar\": {\"outlinewidth\": 0, \"ticks\": \"\"}}, \"type\": \"parcoords\"}], \"pie\": [{\"automargin\": true, \"type\": \"pie\"}], \"scatter\": [{\"marker\": {\"colorbar\": {\"outlinewidth\": 0, \"ticks\": \"\"}}, \"type\": \"scatter\"}], \"scatter3d\": [{\"line\": {\"colorbar\": {\"outlinewidth\": 0, \"ticks\": \"\"}}, \"marker\": {\"colorbar\": {\"outlinewidth\": 0, \"ticks\": \"\"}}, \"type\": \"scatter3d\"}], \"scattercarpet\": [{\"marker\": {\"colorbar\": {\"outlinewidth\": 0, \"ticks\": \"\"}}, \"type\": \"scattercarpet\"}], \"scattergeo\": [{\"marker\": {\"colorbar\": {\"outlinewidth\": 0, \"ticks\": \"\"}}, \"type\": \"scattergeo\"}], \"scattergl\": [{\"marker\": {\"colorbar\": {\"outlinewidth\": 0, \"ticks\": \"\"}}, \"type\": \"scattergl\"}], \"scattermapbox\": [{\"marker\": {\"colorbar\": {\"outlinewidth\": 0, \"ticks\": \"\"}}, \"type\": \"scattermapbox\"}], \"scatterpolar\": [{\"marker\": {\"colorbar\": {\"outlinewidth\": 0, \"ticks\": \"\"}}, \"type\": \"scatterpolar\"}], \"scatterpolargl\": [{\"marker\": {\"colorbar\": {\"outlinewidth\": 0, \"ticks\": \"\"}}, \"type\": \"scatterpolargl\"}], \"scatterternary\": [{\"marker\": {\"colorbar\": {\"outlinewidth\": 0, \"ticks\": \"\"}}, \"type\": \"scatterternary\"}], \"surface\": [{\"colorbar\": {\"outlinewidth\": 0, \"ticks\": \"\"}, \"colorscale\": [[0.0, \"#0d0887\"], [0.1111111111111111, \"#46039f\"], [0.2222222222222222, \"#7201a8\"], [0.3333333333333333, \"#9c179e\"], [0.4444444444444444, \"#bd3786\"], [0.5555555555555556, \"#d8576b\"], [0.6666666666666666, \"#ed7953\"], [0.7777777777777778, \"#fb9f3a\"], [0.8888888888888888, \"#fdca26\"], [1.0, \"#f0f921\"]], \"type\": \"surface\"}], \"table\": [{\"cells\": {\"fill\": {\"color\": \"#EBF0F8\"}, \"line\": {\"color\": \"white\"}}, \"header\": {\"fill\": {\"color\": \"#C8D4E3\"}, \"line\": {\"color\": \"white\"}}, \"type\": \"table\"}]}, \"layout\": {\"annotationdefaults\": {\"arrowcolor\": \"#2a3f5f\", \"arrowhead\": 0, \"arrowwidth\": 1}, \"coloraxis\": {\"colorbar\": {\"outlinewidth\": 0, \"ticks\": \"\"}}, \"colorscale\": {\"diverging\": [[0, \"#8e0152\"], [0.1, \"#c51b7d\"], [0.2, \"#de77ae\"], [0.3, \"#f1b6da\"], [0.4, \"#fde0ef\"], [0.5, \"#f7f7f7\"], [0.6, \"#e6f5d0\"], [0.7, \"#b8e186\"], [0.8, \"#7fbc41\"], [0.9, \"#4d9221\"], [1, \"#276419\"]], \"sequential\": [[0.0, \"#0d0887\"], [0.1111111111111111, \"#46039f\"], [0.2222222222222222, \"#7201a8\"], [0.3333333333333333, \"#9c179e\"], [0.4444444444444444, \"#bd3786\"], [0.5555555555555556, \"#d8576b\"], [0.6666666666666666, \"#ed7953\"], [0.7777777777777778, \"#fb9f3a\"], [0.8888888888888888, \"#fdca26\"], [1.0, \"#f0f921\"]], \"sequentialminus\": [[0.0, \"#0d0887\"], [0.1111111111111111, \"#46039f\"], [0.2222222222222222, \"#7201a8\"], [0.3333333333333333, \"#9c179e\"], [0.4444444444444444, \"#bd3786\"], [0.5555555555555556, \"#d8576b\"], [0.6666666666666666, \"#ed7953\"], [0.7777777777777778, \"#fb9f3a\"], [0.8888888888888888, \"#fdca26\"], [1.0, \"#f0f921\"]]}, \"colorway\": [\"#636efa\", \"#EF553B\", \"#00cc96\", \"#ab63fa\", \"#FFA15A\", \"#19d3f3\", \"#FF6692\", \"#B6E880\", \"#FF97FF\", \"#FECB52\"], \"font\": {\"color\": \"#2a3f5f\"}, \"geo\": {\"bgcolor\": \"white\", \"lakecolor\": \"white\", \"landcolor\": \"#E5ECF6\", \"showlakes\": true, \"showland\": true, \"subunitcolor\": \"white\"}, \"hoverlabel\": {\"align\": \"left\"}, \"hovermode\": \"closest\", \"mapbox\": {\"style\": \"light\"}, \"paper_bgcolor\": \"white\", \"plot_bgcolor\": \"#E5ECF6\", \"polar\": {\"angularaxis\": {\"gridcolor\": \"white\", \"linecolor\": \"white\", \"ticks\": \"\"}, \"bgcolor\": \"#E5ECF6\", \"radialaxis\": {\"gridcolor\": \"white\", \"linecolor\": \"white\", \"ticks\": \"\"}}, \"scene\": {\"xaxis\": {\"backgroundcolor\": \"#E5ECF6\", \"gridcolor\": \"white\", \"gridwidth\": 2, \"linecolor\": \"white\", \"showbackground\": true, \"ticks\": \"\", \"zerolinecolor\": \"white\"}, \"yaxis\": {\"backgroundcolor\": \"#E5ECF6\", \"gridcolor\": \"white\", \"gridwidth\": 2, \"linecolor\": \"white\", \"showbackground\": true, \"ticks\": \"\", \"zerolinecolor\": \"white\"}, \"zaxis\": {\"backgroundcolor\": \"#E5ECF6\", \"gridcolor\": \"white\", \"gridwidth\": 2, \"linecolor\": \"white\", \"showbackground\": true, \"ticks\": \"\", \"zerolinecolor\": \"white\"}}, \"shapedefaults\": {\"line\": {\"color\": \"#2a3f5f\"}}, \"ternary\": {\"aaxis\": {\"gridcolor\": \"white\", \"linecolor\": \"white\", \"ticks\": \"\"}, \"baxis\": {\"gridcolor\": \"white\", \"linecolor\": \"white\", \"ticks\": \"\"}, \"bgcolor\": \"#E5ECF6\", \"caxis\": {\"gridcolor\": \"white\", \"linecolor\": \"white\", \"ticks\": \"\"}}, \"title\": {\"x\": 0.05}, \"xaxis\": {\"automargin\": true, \"gridcolor\": \"white\", \"linecolor\": \"white\", \"ticks\": \"\", \"title\": {\"standoff\": 15}, \"zerolinecolor\": \"white\", \"zerolinewidth\": 2}, \"yaxis\": {\"automargin\": true, \"gridcolor\": \"white\", \"linecolor\": \"white\", \"ticks\": \"\", \"title\": {\"standoff\": 15}, \"zerolinecolor\": \"white\", \"zerolinewidth\": 2}}}, \"title\": {\"text\": \"Teenage Birth Rates in Baltimore City vs. New York City for Low Income\"}, \"xaxis\": {\"anchor\": \"y\", \"domain\": [0.0, 1.0], \"title\": {\"text\": \"City\"}}, \"yaxis\": {\"anchor\": \"x\", \"domain\": [0.0, 1.0], \"title\": {\"text\": \"Low\"}}},\n",
              "                        {\"responsive\": true}\n",
              "                    ).then(function(){\n",
              "                            \n",
              "var gd = document.getElementById('acdaf068-6f68-4edf-8797-6337d14adc62');\n",
              "var x = new MutationObserver(function (mutations, observer) {{\n",
              "        var display = window.getComputedStyle(gd).display;\n",
              "        if (!display || display === 'none') {{\n",
              "            console.log([gd, 'removed!']);\n",
              "            Plotly.purge(gd);\n",
              "            observer.disconnect();\n",
              "        }}\n",
              "}});\n",
              "\n",
              "// Listen for the removal of the full notebook cells\n",
              "var notebookContainer = gd.closest('#notebook-container');\n",
              "if (notebookContainer) {{\n",
              "    x.observe(notebookContainer, {childList: true});\n",
              "}}\n",
              "\n",
              "// Listen for the clearing of the current output cell\n",
              "var outputEl = gd.closest('.output');\n",
              "if (outputEl) {{\n",
              "    x.observe(outputEl, {childList: true});\n",
              "}}\n",
              "\n",
              "                        })\n",
              "                };\n",
              "                \n",
              "            </script>\n",
              "        </div>\n",
              "</body>\n",
              "</html>"
            ]
          },
          "metadata": {
            "tags": []
          }
        }
      ]
    }
  ]
}